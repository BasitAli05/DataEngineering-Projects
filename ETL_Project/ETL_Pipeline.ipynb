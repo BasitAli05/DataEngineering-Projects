{
 "cells": [
  {
   "cell_type": "markdown",
   "id": "ffd73547",
   "metadata": {},
   "source": [
    "# Extracting data from SQL Server"
   ]
  },
  {
   "cell_type": "code",
   "execution_count": 1,
   "id": "de464d00",
   "metadata": {},
   "outputs": [],
   "source": [
    "from sqlalchemy import create_engine\n",
    "import pyodbc\n",
    "import pandas as pd\n",
    "from time import time"
   ]
  },
  {
   "cell_type": "code",
   "execution_count": 2,
   "id": "62b6c4fa",
   "metadata": {},
   "outputs": [
    {
     "name": "stdout",
     "output_type": "stream",
     "text": [
      "Successfully connected to the database: ETLProjectDB\n"
     ]
    }
   ],
   "source": [
    "from sqlalchemy import create_engine\n",
    "\n",
    "user = 'basit'\n",
    "password = 'test123'\n",
    "server = 'localhost'\n",
    "database = 'ETLProjectDB'\n",
    "\n",
    "# Replace 'ODBC Driver 17 for SQL Server' with the appropriate ODBC driver name if needed\n",
    "engine = create_engine(f'mssql+pyodbc://{user}:{password}@{server}/{database}?driver=ODBC+Driver+17+for+SQL+Server')\n",
    "\n",
    "try:\n",
    "    with engine.connect() as conn:\n",
    "        print(f\"Successfully connected to the database: {database}\")\n",
    "except Exception as ex:\n",
    "    print(f\"Sorry, could not connect to the database: {ex}\")"
   ]
  },
  {
   "cell_type": "code",
   "execution_count": 3,
   "id": "47c20f71",
   "metadata": {},
   "outputs": [
    {
     "name": "stdout",
     "output_type": "stream",
     "text": [
      "['greentrip_table', 'zone_table']\n"
     ]
    },
    {
     "name": "stderr",
     "output_type": "stream",
     "text": [
      "C:\\Users\\92322\\AppData\\Local\\Temp\\ipykernel_11108\\571788782.py:2: SADeprecationWarning: The Engine.table_names() method is deprecated and will be removed in a future release.  Please refer to Inspector.get_table_names(). (deprecated since: 1.4)\n",
      "  table_names = engine.table_names()\n"
     ]
    }
   ],
   "source": [
    "# Extracting table names present in the database\n",
    "table_names = engine.table_names()\n",
    "print(table_names)"
   ]
  },
  {
   "cell_type": "code",
   "execution_count": 4,
   "id": "9c2f0a73",
   "metadata": {},
   "outputs": [],
   "source": [
    "dataframes = {}\n",
    "\n",
    "for table_name in table_names:\n",
    "    sql_query = f\"SELECT * FROM {table_name}\"\n",
    "    df = pd.read_sql(sql_query, engine)\n",
    "    # Store the DataFrame in the dictionary using the table name as the key\n",
    "    dataframes[table_name + '_df'] = df"
   ]
  },
  {
   "cell_type": "code",
   "execution_count": 5,
   "id": "44eaf521",
   "metadata": {},
   "outputs": [
    {
     "data": {
      "text/plain": [
       "dict_keys(['greentrip_table_df', 'zone_table_df'])"
      ]
     },
     "execution_count": 5,
     "metadata": {},
     "output_type": "execute_result"
    }
   ],
   "source": [
    "dataframes.keys()"
   ]
  },
  {
   "cell_type": "markdown",
   "id": "cc8338aa",
   "metadata": {},
   "source": [
    "# Transforming Data"
   ]
  },
  {
   "cell_type": "code",
   "execution_count": 6,
   "id": "d7a7ae3c",
   "metadata": {},
   "outputs": [],
   "source": [
    "greentrip_df = dataframes['greentrip_table_df']\n",
    "zone_df      = dataframes['zone_table_df']"
   ]
  },
  {
   "cell_type": "code",
   "execution_count": 7,
   "id": "4e99877f",
   "metadata": {},
   "outputs": [
    {
     "data": {
      "text/html": [
       "<div>\n",
       "<style scoped>\n",
       "    .dataframe tbody tr th:only-of-type {\n",
       "        vertical-align: middle;\n",
       "    }\n",
       "\n",
       "    .dataframe tbody tr th {\n",
       "        vertical-align: top;\n",
       "    }\n",
       "\n",
       "    .dataframe thead th {\n",
       "        text-align: right;\n",
       "    }\n",
       "</style>\n",
       "<table border=\"1\" class=\"dataframe\">\n",
       "  <thead>\n",
       "    <tr style=\"text-align: right;\">\n",
       "      <th></th>\n",
       "      <th>VendorID</th>\n",
       "      <th>lpep_pickup_datetime</th>\n",
       "      <th>lpep_dropoff_datetime</th>\n",
       "      <th>store_and_fwd_flag</th>\n",
       "      <th>RatecodeID</th>\n",
       "      <th>PULocationID</th>\n",
       "      <th>DOLocationID</th>\n",
       "      <th>passenger_count</th>\n",
       "      <th>trip_distance</th>\n",
       "      <th>fare_amount</th>\n",
       "      <th>extra</th>\n",
       "      <th>mta_tax</th>\n",
       "      <th>tip_amount</th>\n",
       "      <th>tolls_amount</th>\n",
       "      <th>ehail_fee</th>\n",
       "      <th>improvement_surcharge</th>\n",
       "      <th>total_amount</th>\n",
       "      <th>payment_type</th>\n",
       "      <th>trip_type</th>\n",
       "      <th>congestion_surcharge</th>\n",
       "    </tr>\n",
       "  </thead>\n",
       "  <tbody>\n",
       "    <tr>\n",
       "      <th>0</th>\n",
       "      <td>2</td>\n",
       "      <td>2018-12-21 15:17:29</td>\n",
       "      <td>2018-12-21 15:18:57</td>\n",
       "      <td>N</td>\n",
       "      <td>1</td>\n",
       "      <td>264</td>\n",
       "      <td>264</td>\n",
       "      <td>5</td>\n",
       "      <td>0.00</td>\n",
       "      <td>3.0</td>\n",
       "      <td>0.5</td>\n",
       "      <td>0.5</td>\n",
       "      <td>0.00</td>\n",
       "      <td>0.0</td>\n",
       "      <td>None</td>\n",
       "      <td>0.3</td>\n",
       "      <td>4.30</td>\n",
       "      <td>2</td>\n",
       "      <td>1</td>\n",
       "      <td>NaN</td>\n",
       "    </tr>\n",
       "    <tr>\n",
       "      <th>1</th>\n",
       "      <td>2</td>\n",
       "      <td>2019-01-01 00:10:16</td>\n",
       "      <td>2019-01-01 00:16:32</td>\n",
       "      <td>N</td>\n",
       "      <td>1</td>\n",
       "      <td>97</td>\n",
       "      <td>49</td>\n",
       "      <td>2</td>\n",
       "      <td>0.86</td>\n",
       "      <td>6.0</td>\n",
       "      <td>0.5</td>\n",
       "      <td>0.5</td>\n",
       "      <td>0.00</td>\n",
       "      <td>0.0</td>\n",
       "      <td>None</td>\n",
       "      <td>0.3</td>\n",
       "      <td>7.30</td>\n",
       "      <td>2</td>\n",
       "      <td>1</td>\n",
       "      <td>NaN</td>\n",
       "    </tr>\n",
       "    <tr>\n",
       "      <th>2</th>\n",
       "      <td>2</td>\n",
       "      <td>2019-01-01 00:27:11</td>\n",
       "      <td>2019-01-01 00:31:38</td>\n",
       "      <td>N</td>\n",
       "      <td>1</td>\n",
       "      <td>49</td>\n",
       "      <td>189</td>\n",
       "      <td>2</td>\n",
       "      <td>0.66</td>\n",
       "      <td>4.5</td>\n",
       "      <td>0.5</td>\n",
       "      <td>0.5</td>\n",
       "      <td>0.00</td>\n",
       "      <td>0.0</td>\n",
       "      <td>None</td>\n",
       "      <td>0.3</td>\n",
       "      <td>5.80</td>\n",
       "      <td>1</td>\n",
       "      <td>1</td>\n",
       "      <td>NaN</td>\n",
       "    </tr>\n",
       "    <tr>\n",
       "      <th>3</th>\n",
       "      <td>2</td>\n",
       "      <td>2019-01-01 00:46:20</td>\n",
       "      <td>2019-01-01 01:04:54</td>\n",
       "      <td>N</td>\n",
       "      <td>1</td>\n",
       "      <td>189</td>\n",
       "      <td>17</td>\n",
       "      <td>2</td>\n",
       "      <td>2.68</td>\n",
       "      <td>13.5</td>\n",
       "      <td>0.5</td>\n",
       "      <td>0.5</td>\n",
       "      <td>2.96</td>\n",
       "      <td>0.0</td>\n",
       "      <td>None</td>\n",
       "      <td>0.3</td>\n",
       "      <td>19.71</td>\n",
       "      <td>1</td>\n",
       "      <td>1</td>\n",
       "      <td>NaN</td>\n",
       "    </tr>\n",
       "    <tr>\n",
       "      <th>4</th>\n",
       "      <td>2</td>\n",
       "      <td>2019-01-01 00:19:06</td>\n",
       "      <td>2019-01-01 00:39:43</td>\n",
       "      <td>N</td>\n",
       "      <td>1</td>\n",
       "      <td>82</td>\n",
       "      <td>258</td>\n",
       "      <td>1</td>\n",
       "      <td>4.53</td>\n",
       "      <td>18.0</td>\n",
       "      <td>0.5</td>\n",
       "      <td>0.5</td>\n",
       "      <td>0.00</td>\n",
       "      <td>0.0</td>\n",
       "      <td>None</td>\n",
       "      <td>0.3</td>\n",
       "      <td>19.30</td>\n",
       "      <td>2</td>\n",
       "      <td>1</td>\n",
       "      <td>NaN</td>\n",
       "    </tr>\n",
       "  </tbody>\n",
       "</table>\n",
       "</div>"
      ],
      "text/plain": [
       "   VendorID lpep_pickup_datetime lpep_dropoff_datetime store_and_fwd_flag  \\\n",
       "0         2  2018-12-21 15:17:29   2018-12-21 15:18:57                  N   \n",
       "1         2  2019-01-01 00:10:16   2019-01-01 00:16:32                  N   \n",
       "2         2  2019-01-01 00:27:11   2019-01-01 00:31:38                  N   \n",
       "3         2  2019-01-01 00:46:20   2019-01-01 01:04:54                  N   \n",
       "4         2  2019-01-01 00:19:06   2019-01-01 00:39:43                  N   \n",
       "\n",
       "   RatecodeID  PULocationID  DOLocationID  passenger_count  trip_distance  \\\n",
       "0           1           264           264                5           0.00   \n",
       "1           1            97            49                2           0.86   \n",
       "2           1            49           189                2           0.66   \n",
       "3           1           189            17                2           2.68   \n",
       "4           1            82           258                1           4.53   \n",
       "\n",
       "   fare_amount  extra  mta_tax  tip_amount  tolls_amount ehail_fee  \\\n",
       "0          3.0    0.5      0.5        0.00           0.0      None   \n",
       "1          6.0    0.5      0.5        0.00           0.0      None   \n",
       "2          4.5    0.5      0.5        0.00           0.0      None   \n",
       "3         13.5    0.5      0.5        2.96           0.0      None   \n",
       "4         18.0    0.5      0.5        0.00           0.0      None   \n",
       "\n",
       "   improvement_surcharge  total_amount  payment_type  trip_type  \\\n",
       "0                    0.3          4.30             2          1   \n",
       "1                    0.3          7.30             2          1   \n",
       "2                    0.3          5.80             1          1   \n",
       "3                    0.3         19.71             1          1   \n",
       "4                    0.3         19.30             2          1   \n",
       "\n",
       "   congestion_surcharge  \n",
       "0                   NaN  \n",
       "1                   NaN  \n",
       "2                   NaN  \n",
       "3                   NaN  \n",
       "4                   NaN  "
      ]
     },
     "execution_count": 7,
     "metadata": {},
     "output_type": "execute_result"
    }
   ],
   "source": [
    "greentrip_df.head()"
   ]
  },
  {
   "cell_type": "code",
   "execution_count": 8,
   "id": "08602562",
   "metadata": {},
   "outputs": [
    {
     "name": "stdout",
     "output_type": "stream",
     "text": [
      "<class 'pandas.core.frame.DataFrame'>\n",
      "RangeIndex: 630918 entries, 0 to 630917\n",
      "Data columns (total 20 columns):\n",
      " #   Column                 Non-Null Count   Dtype  \n",
      "---  ------                 --------------   -----  \n",
      " 0   VendorID               630918 non-null  int64  \n",
      " 1   lpep_pickup_datetime   630918 non-null  object \n",
      " 2   lpep_dropoff_datetime  630918 non-null  object \n",
      " 3   store_and_fwd_flag     630918 non-null  object \n",
      " 4   RatecodeID             630918 non-null  int64  \n",
      " 5   PULocationID           630918 non-null  int64  \n",
      " 6   DOLocationID           630918 non-null  int64  \n",
      " 7   passenger_count        630918 non-null  int64  \n",
      " 8   trip_distance          630918 non-null  float64\n",
      " 9   fare_amount            630918 non-null  float64\n",
      " 10  extra                  630918 non-null  float64\n",
      " 11  mta_tax                630918 non-null  float64\n",
      " 12  tip_amount             630918 non-null  float64\n",
      " 13  tolls_amount           630918 non-null  float64\n",
      " 14  ehail_fee              0 non-null       object \n",
      " 15  improvement_surcharge  630918 non-null  float64\n",
      " 16  total_amount           630918 non-null  float64\n",
      " 17  payment_type           630918 non-null  int64  \n",
      " 18  trip_type              630918 non-null  int64  \n",
      " 19  congestion_surcharge   84538 non-null   float64\n",
      "dtypes: float64(9), int64(7), object(4)\n",
      "memory usage: 96.3+ MB\n"
     ]
    }
   ],
   "source": [
    "greentrip_df.info()"
   ]
  },
  {
   "cell_type": "code",
   "execution_count": 9,
   "id": "f08b0a09",
   "metadata": {},
   "outputs": [
    {
     "name": "stdout",
     "output_type": "stream",
     "text": [
      "datetime64[ns]\n",
      "datetime64[ns]\n"
     ]
    }
   ],
   "source": [
    "# converting lpep_pickup_datetime, lpep_dropoff_datetime in datetime datatype\n",
    "greentrip_df.lpep_pickup_datetime = pd.to_datetime(greentrip_df['lpep_pickup_datetime'])\n",
    "greentrip_df.lpep_dropoff_datetime = pd.to_datetime(greentrip_df['lpep_dropoff_datetime'])\n",
    "print(greentrip_df['lpep_pickup_datetime'].dtype)\n",
    "print(greentrip_df['lpep_dropoff_datetime'].dtype)"
   ]
  },
  {
   "cell_type": "code",
   "execution_count": 10,
   "id": "90b12044",
   "metadata": {},
   "outputs": [
    {
     "data": {
      "text/plain": [
       "630918"
      ]
     },
     "execution_count": 10,
     "metadata": {},
     "output_type": "execute_result"
    }
   ],
   "source": [
    "greentrip_df['ehail_fee'].isnull().count()"
   ]
  },
  {
   "cell_type": "code",
   "execution_count": 11,
   "id": "4c37598c",
   "metadata": {},
   "outputs": [],
   "source": [
    "greentrip_df.drop(columns=['ehail_fee'], inplace=True)"
   ]
  },
  {
   "cell_type": "code",
   "execution_count": 12,
   "id": "317ae452",
   "metadata": {},
   "outputs": [
    {
     "data": {
      "text/plain": [
       "VendorID                 26034\n",
       "lpep_pickup_datetime     26034\n",
       "lpep_dropoff_datetime    26034\n",
       "store_and_fwd_flag       26034\n",
       "RatecodeID               26034\n",
       "PULocationID             26034\n",
       "DOLocationID             26034\n",
       "passenger_count          26034\n",
       "trip_distance            26034\n",
       "fare_amount              26034\n",
       "extra                    26034\n",
       "mta_tax                  26034\n",
       "tip_amount               26034\n",
       "tolls_amount             26034\n",
       "improvement_surcharge    26034\n",
       "total_amount             26034\n",
       "payment_type             26034\n",
       "trip_type                26034\n",
       "congestion_surcharge      3652\n",
       "dtype: int64"
      ]
     },
     "execution_count": 12,
     "metadata": {},
     "output_type": "execute_result"
    }
   ],
   "source": [
    "greentrip_df[greentrip_df['tolls_amount'] >= 1].count()"
   ]
  },
  {
   "cell_type": "markdown",
   "id": "90087787",
   "metadata": {},
   "source": [
    "# Loading data into PostgreSQL Database"
   ]
  },
  {
   "cell_type": "code",
   "execution_count": 13,
   "id": "527b0beb",
   "metadata": {},
   "outputs": [],
   "source": [
    "pg_user = 'postgres'\n",
    "pg_pass = 'mysecretpassword'\n",
    "pg_host = 'localhost'\n",
    "pg_port = 5432\n",
    "pg_db   = 'ETLProjectDB'\n",
    "engine = create_engine(f'postgresql://{pg_user}:{pg_pass}@{pg_host}:{pg_port}/{pg_db}')\n",
    "con = engine.connect()"
   ]
  },
  {
   "cell_type": "code",
   "execution_count": 14,
   "id": "a79656da",
   "metadata": {},
   "outputs": [
    {
     "name": "stdout",
     "output_type": "stream",
     "text": [
      "Time :  155.24  seconds\n"
     ]
    }
   ],
   "source": [
    "start_time = time()\n",
    "greentrip_df.to_sql(name='greentrip', con=con, index=False, if_exists='replace')\n",
    "end_time = time()\n",
    "diff = format(end_time - start_time)\n",
    "print(\"Time : \",round(float(diff),2), \" seconds\") "
   ]
  },
  {
   "cell_type": "code",
   "execution_count": 15,
   "id": "10c59e34",
   "metadata": {},
   "outputs": [],
   "source": [
    "# Close the SQLAlchemy connection\n",
    "con.close()"
   ]
  }
 ],
 "metadata": {
  "kernelspec": {
   "display_name": "Python 3 (ipykernel)",
   "language": "python",
   "name": "python3"
  },
  "language_info": {
   "codemirror_mode": {
    "name": "ipython",
    "version": 3
   },
   "file_extension": ".py",
   "mimetype": "text/x-python",
   "name": "python",
   "nbconvert_exporter": "python",
   "pygments_lexer": "ipython3",
   "version": "3.11.5"
  }
 },
 "nbformat": 4,
 "nbformat_minor": 5
}
