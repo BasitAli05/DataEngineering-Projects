{
 "cells": [
  {
   "cell_type": "code",
   "execution_count": 0,
   "metadata": {
    "application/vnd.databricks.v1+cell": {
     "cellMetadata": {
      "byteLimit": 2048000,
      "rowLimit": 10000
     },
     "inputWidgets": {},
     "nuid": "0056acf1-5994-4845-beef-0584a5924af1",
     "showTitle": true,
     "title": "Import Library"
    }
   },
   "outputs": [],
   "source": [
    "import pyspark\n",
    "from pyspark.sql import SparkSession\n",
    "from pyspark.sql.types import StructType, StructField, StringType, IntegerType\n",
    "from pyspark.sql.functions import *"
   ]
  },
  {
   "cell_type": "code",
   "execution_count": 0,
   "metadata": {
    "application/vnd.databricks.v1+cell": {
     "cellMetadata": {
      "byteLimit": 2048000,
      "rowLimit": 10000
     },
     "inputWidgets": {},
     "nuid": "502eea17-0951-45cd-91d5-cb46e972e023",
     "showTitle": true,
     "title": "Create Dataframe"
    }
   },
   "outputs": [],
   "source": [
    "df = spark.read.load(\"/FileStore/tables/googleplaystore.csv\", format=\"csv\", sep=\",\", escape='\"', inferSchema=\"true\", header=\"true\")"
   ]
  },
  {
   "cell_type": "code",
   "execution_count": 0,
   "metadata": {
    "application/vnd.databricks.v1+cell": {
     "cellMetadata": {
      "byteLimit": 2048000,
      "rowLimit": 10000
     },
     "inputWidgets": {},
     "nuid": "796c6313-bd96-47f8-ab29-d3961cc2c90f",
     "showTitle": false,
     "title": ""
    }
   },
   "outputs": [
    {
     "output_type": "stream",
     "name": "stdout",
     "output_type": "stream",
     "text": [
      "Out[20]: 10841"
     ]
    }
   ],
   "source": [
    "df.count()"
   ]
  },
  {
   "cell_type": "code",
   "execution_count": 0,
   "metadata": {
    "application/vnd.databricks.v1+cell": {
     "cellMetadata": {
      "byteLimit": 2048000,
      "rowLimit": 10000
     },
     "inputWidgets": {},
     "nuid": "9d379b8f-d660-44ee-bd7a-5bbde23b4bb3",
     "showTitle": false,
     "title": ""
    }
   },
   "outputs": [
    {
     "output_type": "stream",
     "name": "stdout",
     "output_type": "stream",
     "text": [
      "+--------------------+--------------+------+-------+----+----------+----+-----+--------------+--------------------+----------------+-----------+------------+\n|                 App|      Category|Rating|Reviews|Size|  Installs|Type|Price|Content Rating|              Genres|    Last Updated|Current Ver| Android Ver|\n+--------------------+--------------+------+-------+----+----------+----+-----+--------------+--------------------+----------------+-----------+------------+\n|Photo Editor & Ca...|ART_AND_DESIGN|   4.1|    159| 19M|   10,000+|Free|    0|      Everyone|        Art & Design| January 7, 2018|      1.0.0|4.0.3 and up|\n| Coloring book moana|ART_AND_DESIGN|   3.9|    967| 14M|  500,000+|Free|    0|      Everyone|Art & Design;Pret...|January 15, 2018|      2.0.0|4.0.3 and up|\n|U Launcher Lite –...|ART_AND_DESIGN|   4.7|  87510|8.7M|5,000,000+|Free|    0|      Everyone|        Art & Design|  August 1, 2018|      1.2.4|4.0.3 and up|\n+--------------------+--------------+------+-------+----+----------+----+-----+--------------+--------------------+----------------+-----------+------------+\nonly showing top 3 rows\n\n"
     ]
    }
   ],
   "source": [
    "df.show(3)"
   ]
  },
  {
   "cell_type": "code",
   "execution_count": 0,
   "metadata": {
    "application/vnd.databricks.v1+cell": {
     "cellMetadata": {
      "byteLimit": 2048000,
      "rowLimit": 10000
     },
     "inputWidgets": {},
     "nuid": "6a7dad33-8778-42cb-a012-378716e5984e",
     "showTitle": true,
     "title": "Data Cleaning"
    }
   },
   "outputs": [
    {
     "output_type": "stream",
     "name": "stdout",
     "output_type": "stream",
     "text": [
      "+--------------------+--------------+------+-------+----------+----+-----+--------------------+\n|                 App|      Category|Rating|Reviews|  Installs|Type|Price|              Genres|\n+--------------------+--------------+------+-------+----------+----+-----+--------------------+\n|Photo Editor & Ca...|ART_AND_DESIGN|   4.1|    159|   10,000+|Free|    0|        Art & Design|\n| Coloring book moana|ART_AND_DESIGN|   3.9|    967|  500,000+|Free|    0|Art & Design;Pret...|\n|U Launcher Lite –...|ART_AND_DESIGN|   4.7|  87510|5,000,000+|Free|    0|        Art & Design|\n+--------------------+--------------+------+-------+----------+----+-----+--------------------+\nonly showing top 3 rows\n\n"
     ]
    }
   ],
   "source": [
    "# Droping columns that are not in use\n",
    "df = df.drop('Size','Content Rating','Last Updated','Android Ver','Current Ver')\n",
    "df.show(3)"
   ]
  },
  {
   "cell_type": "code",
   "execution_count": 0,
   "metadata": {
    "application/vnd.databricks.v1+cell": {
     "cellMetadata": {
      "byteLimit": 2048000,
      "rowLimit": 10000
     },
     "inputWidgets": {},
     "nuid": "4f95ba49-7391-49d7-8ada-e8b59ca89418",
     "showTitle": false,
     "title": ""
    }
   },
   "outputs": [
    {
     "output_type": "stream",
     "name": "stdout",
     "output_type": "stream",
     "text": [
      "root\n |-- App: string (nullable = true)\n |-- Category: string (nullable = true)\n |-- Rating: double (nullable = true)\n |-- Reviews: string (nullable = true)\n |-- Installs: string (nullable = true)\n |-- Type: string (nullable = true)\n |-- Price: string (nullable = true)\n |-- Genres: string (nullable = true)\n\n"
     ]
    }
   ],
   "source": [
    "df.printSchema()"
   ]
  },
  {
   "cell_type": "code",
   "execution_count": 0,
   "metadata": {
    "application/vnd.databricks.v1+cell": {
     "cellMetadata": {
      "byteLimit": 2048000,
      "rowLimit": 10000
     },
     "inputWidgets": {},
     "nuid": "b65b4bc7-6d49-4286-be86-7f0e3e9aed59",
     "showTitle": false,
     "title": ""
    }
   },
   "outputs": [],
   "source": [
    "df = df.withColumn('Reviews',col('Reviews').cast(IntegerType()))\\\n",
    ".withColumn('Installs',regexp_replace(col('Installs'),\"[^0-9]\",\"\"))\\\n",
    ".withColumn('Installs',col('Installs').cast(IntegerType()))\\\n",
    ".withColumn('Price',regexp_replace(col('Price'),\"[$]\",\"\"))\\\n",
    ".withColumn('Price',col('Price').cast(IntegerType()))\n",
    "    "
   ]
  },
  {
   "cell_type": "code",
   "execution_count": 0,
   "metadata": {
    "application/vnd.databricks.v1+cell": {
     "cellMetadata": {
      "byteLimit": 2048000,
      "rowLimit": 10000
     },
     "inputWidgets": {},
     "nuid": "d5146b33-8e2d-49cc-b101-5e7320fc5bb8",
     "showTitle": false,
     "title": ""
    }
   },
   "outputs": [
    {
     "output_type": "stream",
     "name": "stdout",
     "output_type": "stream",
     "text": [
      "root\n |-- App: string (nullable = true)\n |-- Category: string (nullable = true)\n |-- Rating: double (nullable = true)\n |-- Reviews: integer (nullable = true)\n |-- Installs: integer (nullable = true)\n |-- Type: string (nullable = true)\n |-- Price: integer (nullable = true)\n |-- Genres: string (nullable = true)\n\n"
     ]
    }
   ],
   "source": [
    "df.printSchema()"
   ]
  },
  {
   "cell_type": "code",
   "execution_count": 0,
   "metadata": {
    "application/vnd.databricks.v1+cell": {
     "cellMetadata": {
      "byteLimit": 2048000,
      "rowLimit": 10000
     },
     "inputWidgets": {},
     "nuid": "c985e5f7-726d-4a0a-8c93-7ddf6a63c378",
     "showTitle": false,
     "title": ""
    }
   },
   "outputs": [
    {
     "output_type": "stream",
     "name": "stdout",
     "output_type": "stream",
     "text": [
      "+--------------------+--------------+------+-------+--------+----+-----+--------------------+\n|                 App|      Category|Rating|Reviews|Installs|Type|Price|              Genres|\n+--------------------+--------------+------+-------+--------+----+-----+--------------------+\n|Photo Editor & Ca...|ART_AND_DESIGN|   4.1|    159|   10000|Free|    0|        Art & Design|\n| Coloring book moana|ART_AND_DESIGN|   3.9|    967|  500000|Free|    0|Art & Design;Pret...|\n|U Launcher Lite –...|ART_AND_DESIGN|   4.7|  87510| 5000000|Free|    0|        Art & Design|\n|Sketch - Draw & P...|ART_AND_DESIGN|   4.5| 215644|50000000|Free|    0|        Art & Design|\n|Pixel Draw - Numb...|ART_AND_DESIGN|   4.3|    967|  100000|Free|    0|Art & Design;Crea...|\n+--------------------+--------------+------+-------+--------+----+-----+--------------------+\nonly showing top 5 rows\n\n"
     ]
    }
   ],
   "source": [
    "df.show(5)"
   ]
  },
  {
   "cell_type": "code",
   "execution_count": 0,
   "metadata": {
    "application/vnd.databricks.v1+cell": {
     "cellMetadata": {
      "byteLimit": 2048000,
      "rowLimit": 10000
     },
     "inputWidgets": {},
     "nuid": "cfff51a6-b868-45c1-9fe7-2ecc457f55da",
     "showTitle": false,
     "title": ""
    }
   },
   "outputs": [],
   "source": [
    "df.createOrReplaceTempView(\"apps\")"
   ]
  },
  {
   "cell_type": "code",
   "execution_count": 0,
   "metadata": {
    "application/vnd.databricks.v1+cell": {
     "cellMetadata": {
      "byteLimit": 2048000,
      "rowLimit": 10000
     },
     "inputWidgets": {},
     "nuid": "a675bc6c-4be5-4fef-b741-21483061b9bb",
     "showTitle": false,
     "title": ""
    }
   },
   "outputs": [
    {
     "output_type": "stream",
     "name": "stdout",
     "output_type": "stream",
     "text": [
      "+--------------------+--------------+------+-------+--------+----+-----+--------------------+\n|                 App|      Category|Rating|Reviews|Installs|Type|Price|              Genres|\n+--------------------+--------------+------+-------+--------+----+-----+--------------------+\n|Photo Editor & Ca...|ART_AND_DESIGN|   4.1|    159|   10000|Free|    0|        Art & Design|\n| Coloring book moana|ART_AND_DESIGN|   3.9|    967|  500000|Free|    0|Art & Design;Pret...|\n|U Launcher Lite –...|ART_AND_DESIGN|   4.7|  87510| 5000000|Free|    0|        Art & Design|\n|Sketch - Draw & P...|ART_AND_DESIGN|   4.5| 215644|50000000|Free|    0|        Art & Design|\n|Pixel Draw - Numb...|ART_AND_DESIGN|   4.3|    967|  100000|Free|    0|Art & Design;Crea...|\n|Paper flowers ins...|ART_AND_DESIGN|   4.4|    167|   50000|Free|    0|        Art & Design|\n|Smoke Effect Phot...|ART_AND_DESIGN|   3.8|    178|   50000|Free|    0|        Art & Design|\n|    Infinite Painter|ART_AND_DESIGN|   4.1|  36815| 1000000|Free|    0|        Art & Design|\n|Garden Coloring Book|ART_AND_DESIGN|   4.4|  13791| 1000000|Free|    0|        Art & Design|\n|Kids Paint Free -...|ART_AND_DESIGN|   4.7|    121|   10000|Free|    0|Art & Design;Crea...|\n|Text on Photo - F...|ART_AND_DESIGN|   4.4|  13880| 1000000|Free|    0|        Art & Design|\n|Name Art Photo Ed...|ART_AND_DESIGN|   4.4|   8788| 1000000|Free|    0|        Art & Design|\n|Tattoo Name On My...|ART_AND_DESIGN|   4.2|  44829|10000000|Free|    0|        Art & Design|\n|Mandala Coloring ...|ART_AND_DESIGN|   4.6|   4326|  100000|Free|    0|        Art & Design|\n|3D Color Pixel by...|ART_AND_DESIGN|   4.4|   1518|  100000|Free|    0|        Art & Design|\n|Learn To Draw Kaw...|ART_AND_DESIGN|   3.2|     55|    5000|Free|    0|        Art & Design|\n|Photo Designer - ...|ART_AND_DESIGN|   4.7|   3632|  500000|Free|    0|        Art & Design|\n|350 Diy Room Deco...|ART_AND_DESIGN|   4.5|     27|   10000|Free|    0|        Art & Design|\n|FlipaClip - Carto...|ART_AND_DESIGN|   4.3| 194216| 5000000|Free|    0|        Art & Design|\n|        ibis Paint X|ART_AND_DESIGN|   4.6| 224399|10000000|Free|    0|        Art & Design|\n+--------------------+--------------+------+-------+--------+----+-----+--------------------+\nonly showing top 20 rows\n\n"
     ]
    }
   ],
   "source": [
    "spark.sql(\"select * from apps\").show()"
   ]
  },
  {
   "cell_type": "code",
   "execution_count": 0,
   "metadata": {
    "application/vnd.databricks.v1+cell": {
     "cellMetadata": {
      "byteLimit": 2048000,
      "rowLimit": 10000
     },
     "inputWidgets": {},
     "nuid": "94198df7-fa28-4ca0-9ce4-98b383f01820",
     "showTitle": true,
     "title": "Top Reviews given to the apps"
    }
   },
   "outputs": [
    {
     "output_type": "stream",
     "name": "stdout",
     "output_type": "stream",
     "text": [
      "+--------------------+------------+\n|                 App|sum(Reviews)|\n+--------------------+------------+\n|           Instagram|   266241989|\n|  WhatsApp Messenger|   207348304|\n|      Clash of Clans|   179558781|\n|Messenger – Text ...|   169932272|\n|      Subway Surfers|   166331958|\n+--------------------+------------+\nonly showing top 5 rows\n\n"
     ]
    }
   ],
   "source": [
    "spark.sql(\"select App, sum(Reviews) from apps group by 1 order by 2 desc\").show(5)"
   ]
  },
  {
   "cell_type": "code",
   "execution_count": 0,
   "metadata": {
    "application/vnd.databricks.v1+cell": {
     "cellMetadata": {
      "byteLimit": 2048000,
      "rowLimit": 10000
     },
     "inputWidgets": {},
     "nuid": "ccef5e22-9db7-438e-9a24-a7485c92a002",
     "showTitle": true,
     "title": "Top 5 Installed Apps"
    }
   },
   "outputs": [
    {
     "output_type": "stream",
     "name": "stdout",
     "output_type": "stream",
     "text": [
      "+--------------+-------------+\n|           App|sum(Installs)|\n+--------------+-------------+\n|Subway Surfers|   6000000000|\n|      Hangouts|   4000000000|\n|     Instagram|   4000000000|\n|  Google Drive|   4000000000|\n|   Google News|   4000000000|\n+--------------+-------------+\nonly showing top 5 rows\n\n"
     ]
    }
   ],
   "source": [
    "spark.sql(\"select App, sum(Installs) from apps group by App order by sum(Installs) desc\").show(5)"
   ]
  },
  {
   "cell_type": "code",
   "execution_count": 0,
   "metadata": {
    "application/vnd.databricks.v1+cell": {
     "cellMetadata": {
      "byteLimit": 2048000,
      "rowLimit": 10000
     },
     "inputWidgets": {},
     "nuid": "d3a90b40-cda4-43cc-99ab-8bab0d8a6ec1",
     "showTitle": true,
     "title": "Top 5 Category w.r.t Installations"
    }
   },
   "outputs": [
    {
     "output_type": "stream",
     "name": "stdout",
     "output_type": "stream",
     "text": [
      "+-------------+-------------+\n|     Category|sum(Installs)|\n+-------------+-------------+\n|         GAME|  35086024415|\n|COMMUNICATION|  32647276251|\n| PRODUCTIVITY|  14176091369|\n|       SOCIAL|  14069867902|\n|        TOOLS|  11452771915|\n+-------------+-------------+\nonly showing top 5 rows\n\n"
     ]
    }
   ],
   "source": [
    "spark.sql(\"select Category, sum(Installs) from apps group by Category order by sum(Installs) desc\").show(5)"
   ]
  },
  {
   "cell_type": "code",
   "execution_count": 0,
   "metadata": {
    "application/vnd.databricks.v1+cell": {
     "cellMetadata": {
      "byteLimit": 2048000,
      "rowLimit": 10000
     },
     "inputWidgets": {},
     "nuid": "d8044ae4-750d-4c1d-be00-a13de0592074",
     "showTitle": true,
     "title": "Top 5 Paid Apps"
    }
   },
   "outputs": [
    {
     "output_type": "stream",
     "name": "stdout",
     "output_type": "stream",
     "text": [
      "+--------------------+----------+\n|                 App|sum(Price)|\n+--------------------+----------+\n|I'm Rich - Trump ...|       400|\n|most expensive ap...|       399|\n|         💎 I'm rich|       399|\n|       I Am Rich Pro|       399|\n|I'm Rich/Eu sou R...|       399|\n+--------------------+----------+\nonly showing top 5 rows\n\n"
     ]
    }
   ],
   "source": [
    "spark.sql(\"select App, sum(Price) from apps where Type='Paid' group by App order by 2 desc\").show(5)"
   ]
  },
  {
   "cell_type": "code",
   "execution_count": 0,
   "metadata": {
    "application/vnd.databricks.v1+cell": {
     "cellMetadata": {
      "byteLimit": 2048000,
      "implicitDf": true,
      "rowLimit": 10000
     },
     "inputWidgets": {},
     "nuid": "45f5e818-80e4-4399-ac30-ec97f9f48795",
     "showTitle": false,
     "title": ""
    }
   },
   "outputs": [
    {
     "output_type": "display_data",
     "data": {
      "text/html": [
       "<style scoped>\n",
       "  .table-result-container {\n",
       "    max-height: 300px;\n",
       "    overflow: auto;\n",
       "  }\n",
       "  table, th, td {\n",
       "    border: 1px solid black;\n",
       "    border-collapse: collapse;\n",
       "  }\n",
       "  th, td {\n",
       "    padding: 5px;\n",
       "  }\n",
       "  th {\n",
       "    text-align: left;\n",
       "  }\n",
       "</style><div class='table-result-container'><table class='table-result'><thead style='background-color: white'><tr><th>App</th><th>sum(Price)</th></tr></thead><tbody><tr><td>I'm Rich - Trump Edition</td><td>400</td></tr><tr><td>I am Rich Plus</td><td>399</td></tr><tr><td>I AM RICH PRO PLUS</td><td>399</td></tr><tr><td>I'm Rich/Eu sou Rico/أنا غني/我很有錢</td><td>399</td></tr><tr><td>I Am Rich Premium</td><td>399</td></tr><tr><td>most expensive app (H)</td><td>399</td></tr><tr><td>I Am Rich Pro</td><td>399</td></tr><tr><td>I am rich(premium)</td><td>399</td></tr><tr><td>I am Rich</td><td>399</td></tr><tr><td>I am Rich!</td><td>399</td></tr><tr><td>💎 I'm rich</td><td>399</td></tr><tr><td>I am rich (Most expensive app)</td><td>399</td></tr><tr><td>I am rich</td><td>399</td></tr><tr><td>Eu Sou Rico</td><td>394</td></tr><tr><td>I Am Rich</td><td>389</td></tr><tr><td>I am extremely Rich</td><td>379</td></tr><tr><td>I am rich VIP</td><td>299</td></tr><tr><td>EP Cook Book</td><td>200</td></tr><tr><td>Vargo Anesthesia Mega App</td><td>158</td></tr><tr><td>cronometra-br</td><td>154</td></tr><tr><td>BP Fitness Lead Scanner</td><td>109</td></tr><tr><td>Lean EQ</td><td>89</td></tr><tr><td>Language Therapy: Aphasia</td><td>74</td></tr><tr><td>Human Anatomy Atlas 2018: Complete 3D Human Body</td><td>72</td></tr><tr><td>A Manual of Acupuncture</td><td>66</td></tr><tr><td>EMT PASS</td><td>58</td></tr><tr><td>PTA Content Master</td><td>58</td></tr><tr><td>Advanced Comprehension Therapy</td><td>48</td></tr><tr><td>Muscle Premium - Human Anatomy, Kinesiology, Bones</td><td>48</td></tr><tr><td>Dr.Dice - Sic bo analyzer</td><td>46</td></tr><tr><td>Norwegian For Kids & Babies F</td><td>39</td></tr><tr><td>LTC AS Legal</td><td>39</td></tr><tr><td>Hospitalist Handbook</td><td>38</td></tr><tr><td>I am Rich Person</td><td>37</td></tr><tr><td>2017 EMRA Antibiotic Guide</td><td>32</td></tr><tr><td>Eu sou Rico</td><td>30</td></tr><tr><td>Golfshot Plus: Golf GPS</td><td>29</td></tr><tr><td>AP Art History Flashcards</td><td>29</td></tr><tr><td>Guide to Nikon Df</td><td>29</td></tr><tr><td>Dz kayas</td><td>28</td></tr><tr><td>AnatomyMapp</td><td>28</td></tr><tr><td>Block Buddy</td><td>28</td></tr><tr><td>G-NetReport Pro</td><td>25</td></tr><tr><td>Cardiac diagnosis (heart rate, arrhythmia)</td><td>24</td></tr><tr><td>Essential Anatomy 3</td><td>22</td></tr><tr><td>EMT Review Plus</td><td>22</td></tr><tr><td>Paramedic Protocol Provider</td><td>20</td></tr><tr><td>DRAGON QUEST VIII</td><td>19</td></tr><tr><td>AW Toolbox</td><td>19</td></tr><tr><td>USMLE Step 2 CK Flashcards</td><td>19</td></tr><tr><td>boattheory.ch Full 2018</td><td>19</td></tr><tr><td>Z PIVOT</td><td>19</td></tr><tr><td>NewTek NDI</td><td>19</td></tr><tr><td>ASCCP Mobile</td><td>18</td></tr><tr><td>Monash Uni Low FODMAP Diet</td><td>18</td></tr><tr><td>Diabetes & Diet Tracker</td><td>18</td></tr><tr><td>I am Rich Premium Plus</td><td>18</td></tr><tr><td>The World Ends With You</td><td>17</td></tr><tr><td>SkyTest BU/GU Lite</td><td>17</td></tr><tr><td>Trine 2: Complete Story</td><td>16</td></tr><tr><td>Facetune - For Free</td><td>15</td></tr><tr><td>Navi Radiography Pro</td><td>15</td></tr><tr><td>Interactive CT and MRI Anatomy</td><td>15</td></tr><tr><td>Electrician Calculator Pro</td><td>14</td></tr><tr><td>DRAGON QUEST V</td><td>14</td></tr><tr><td>G-NetTrack Pro</td><td>14</td></tr><tr><td>DRAGON QUEST VI</td><td>14</td></tr><tr><td>DRAGON QUEST IV</td><td>14</td></tr><tr><td>Chess of Blades (BL/Yaoi Game) (No VA)</td><td>14</td></tr><tr><td>Number Therapy</td><td>14</td></tr><tr><td>Blackjack Verite Drills</td><td>14</td></tr><tr><td>Ak Parti Yardım Toplama</td><td>13</td></tr><tr><td>FINAL FANTASY DIMENSIONS</td><td>13</td></tr><tr><td>Minecraft</td><td>12</td></tr><tr><td>ZombieVital DG</td><td>12</td></tr><tr><td>Carrier Landings Pro</td><td>12</td></tr><tr><td>DS Helpdesk Plus</td><td>12</td></tr><tr><td>Journal Club: Medicine</td><td>12</td></tr><tr><td>BackCountry Navigator TOPO GPS PRO</td><td>11</td></tr><tr><td>Medical ID - In Case of Emergency (ICE)</td><td>10</td></tr><tr><td>go41cx</td><td>10</td></tr><tr><td>CCHT PREP</td><td>10</td></tr><tr><td>Pedi STAT</td><td>10</td></tr><tr><td>RPG ブレイジング ソウルズ アクセレイト</td><td>10</td></tr><tr><td>Fuzzy Numbers: Pre-K Number Foundation</td><td>10</td></tr><tr><td>XCOM®: Enemy Within</td><td>9</td></tr><tr><td>FORD V SERIES CALC - NO LIMIT</td><td>9</td></tr><tr><td>Dr. Panda & Toto's Treehouse</td><td>9</td></tr><tr><td>Star Wars ™: DIRTY</td><td>9</td></tr><tr><td>Vital Tones EI Pro</td><td>9</td></tr><tr><td>Baldur's Gate: Enhanced Edition</td><td>9</td></tr><tr><td>BIG Launcher</td><td>9</td></tr><tr><td>Jeppesen CR Flight Computer</td><td>9</td></tr><tr><td>EF Lens Simulator</td><td>9</td></tr><tr><td>500 AP World History Questions</td><td>9</td></tr><tr><td>DRAGON QUEST III</td><td>9</td></tr><tr><td>Pocket AC</td><td>9</td></tr><tr><td>Chest CT Sectional Walker</td><td>9</td></tr><tr><td>Critical Care Paramedic Review</td><td>9</td></tr><tr><td>InfantRisk Center HCP</td><td>9</td></tr><tr><td>Abdominal CT Sectional Walker</td><td>9</td></tr><tr><td>Baldur's Gate II</td><td>9</td></tr><tr><td>CHRONO TRIGGER (Upgrade Ver.)</td><td>9</td></tr><tr><td>ACCDB MDB DB Manager Pro - Editor for MS Access</td><td>8</td></tr><tr><td>Football Manager Mobile 2018</td><td>8</td></tr><tr><td>USB BT Wi-Fi Color Terminal Modem</td><td>8</td></tr><tr><td>Maps & GPS Navigation OsmAnd+</td><td>8</td></tr><tr><td>MC.Fitting</td><td>8</td></tr><tr><td>TurboScan: scan documents and receipts in PDF</td><td>8</td></tr><tr><td>Greater London A-Z 2016</td><td>8</td></tr><tr><td>Tiny Scanner Pro: PDF Doc Scan</td><td>8</td></tr><tr><td>DG Surveyor</td><td>8</td></tr><tr><td>My Movies Pro - Movie & TV Collection Library</td><td>7</td></tr><tr><td>Police Field Interview FI Card</td><td>7</td></tr><tr><td>Backgammon NJ for Android</td><td>7</td></tr><tr><td>FINAL FANTASY V</td><td>7</td></tr><tr><td>Children Educational Game Full</td><td>7</td></tr><tr><td>Fast Tract Diet</td><td>7</td></tr><tr><td>AMBW Dating App: Asian Men Black Women Interracial</td><td>7</td></tr><tr><td>Recognise Foot</td><td>7</td></tr><tr><td>Acupuncture Assistant</td><td>7</td></tr><tr><td>Ad Removal: thereisonlywe</td><td>6</td></tr><tr><td>FN model 1900 pistol explained</td><td>6</td></tr><tr><td>New York Mysteries (Full)</td><td>6</td></tr><tr><td>FN FAL rifle explained</td><td>6</td></tr><tr><td>The EO Bar</td><td>6</td></tr><tr><td>Toca Life: City</td><td>6</td></tr><tr><td>Moco+ - Chat, Meet People</td><td>6</td></tr><tr><td>Prime Key for Nougat Launcher& O Launcher &KitKat</td><td>6</td></tr><tr><td>Radiological Anatomy For FRCR1</td><td>6</td></tr><tr><td>Call of Duty:Black Ops Zombies</td><td>6</td></tr><tr><td>Florida Tides & Weather</td><td>6</td></tr><tr><td>Sago Mini Babies</td><td>6</td></tr><tr><td>FN pistol model 1903 explained</td><td>6</td></tr><tr><td>The Legacy (Full)</td><td>6</td></tr><tr><td>Grand Theft Auto: San Andreas</td><td>6</td></tr><tr><td>EMT Tutor NREMT-B Study Guide</td><td>6</td></tr><tr><td>The FN HP pistol explained</td><td>6</td></tr><tr><td>Calculator</td><td>6</td></tr><tr><td>Camera FV-5</td><td>6</td></tr><tr><td>AF-STROKE</td><td>5</td></tr><tr><td>Campervan.Guide Pro</td><td>5</td></tr><tr><td>bpresso PRO</td><td>5</td></tr><tr><td>CZ-27 pistol explained</td><td>5</td></tr><tr><td>BSPlayer</td><td>5</td></tr><tr><td>aCalendar+ Calendar & Tasks</td><td>5</td></tr><tr><td>amm dz</td><td>5</td></tr><tr><td>CZ-38 (vz 38) pistol explained</td><td>5</td></tr><tr><td>CZ-Cyberon Voice Commander</td><td>5</td></tr><tr><td>Pistolet CZ-70 CZ-50 expliqué</td><td>5</td></tr><tr><td>CZ-45 pistol explained</td><td>5</td></tr><tr><td>Weather Live</td><td>5</td></tr><tr><td>KeePass DX Pro</td><td>5</td></tr><tr><td>Pistolet FN GP35 expliqué</td><td>5</td></tr><tr><td>RollerCoaster Tycoon® Classic</td><td>5</td></tr><tr><td>OrthoFlow</td><td>5</td></tr><tr><td>Please Don't Touch Anything 3D</td><td>5</td></tr><tr><td>OptoDrum</td><td>5</td></tr><tr><td>BG Monitor Diabetes Pro</td><td>5</td></tr><tr><td>CZ-70 (CZ-50) pistol explained</td><td>5</td></tr><tr><td>Sleep as Android Unlock</td><td>5</td></tr><tr><td>G-NetWiFi Pro</td><td>5</td></tr><tr><td>Pistolet FN 1906 expliqué</td><td>5</td></tr><tr><td>Cardio Z</td><td>5</td></tr><tr><td>The FN \"Baby\" pistol explained</td><td>5</td></tr><tr><td>Monitor My BP</td><td>5</td></tr><tr><td>CZ-52 pistol explained</td><td>5</td></tr><tr><td>FN pistol Model 1906 explained</td><td>5</td></tr><tr><td>iHunter BC</td><td>4</td></tr><tr><td>Al'Quran Bahasa Indonesia PRO</td><td>4</td></tr><tr><td>NBA JAM by EA SPORTS™</td><td>4</td></tr><tr><td>myGrow</td><td>4</td></tr><tr><td>Battleheart Legacy</td><td>4</td></tr><tr><td>Nighty Night Circus</td><td>4</td></tr><tr><td>IBM Micromedex Drug Info</td><td>4</td></tr><tr><td>AH Alarm Panel</td><td>4</td></tr><tr><td>S Launcher Pro for Galaxy</td><td>4</td></tr><tr><td>The Game of Life</td><td>4</td></tr><tr><td>DraStic DS Emulator</td><td>4</td></tr><tr><td>Chess and Mate</td><td>4</td></tr><tr><td>Bitcoin BX Thailand PRO</td><td>4</td></tr><tr><td>Advanced EX for RENAULT</td><td>4</td></tr><tr><td>ERres- Emergency Medicine</td><td>4</td></tr><tr><td>Adventure Time Game Wizard</td><td>4</td></tr><tr><td>ai.type keyboard Plus + Emoji</td><td>4</td></tr><tr><td>CT-REMOTE</td><td>4</td></tr><tr><td>Officiel du SCRABBLE LAROUSSE</td><td>4</td></tr><tr><td>The Room: Old Sins</td><td>4</td></tr><tr><td>Business Calendar Pro</td><td>4</td></tr><tr><td>Hey AJ! It's Bedtime!</td><td>4</td></tr><tr><td>Advanced EX for FIAT</td><td>4</td></tr><tr><td>Elemental Knights R Platinum</td><td>4</td></tr><tr><td>CM Launcher 3D Pro💎</td><td>4</td></tr><tr><td>Paprika Recipe Manager</td><td>4</td></tr><tr><td>The House of Da Vinci</td><td>4</td></tr><tr><td>Beautiful Widgets Pro</td><td>4</td></tr><tr><td>I am Bread</td><td>4</td></tr><tr><td>Advanced EX for MITSUBISHI</td><td>4</td></tr><tr><td>R Instructor</td><td>4</td></tr><tr><td>SharedCare™ Co-parenting</td><td>4</td></tr><tr><td>LEGO Batman: DC Super Heroes</td><td>4</td></tr><tr><td>F-Sim Space Shuttle</td><td>4</td></tr><tr><td>AG Contacts, Premium edition</td><td>4</td></tr><tr><td>Dr. Splorchy Presents Space Heroes</td><td>4</td></tr><tr><td>Oddworld: New 'n' Tasty</td><td>4</td></tr><tr><td>iCam - Webcam Video Streaming</td><td>4</td></tr><tr><td>Please, Don't Touch Anything</td><td>4</td></tr><tr><td>Morse Decoder for Ham Radio</td><td>4</td></tr><tr><td>SLANGY-Perfect BK World Theme</td><td>4</td></tr><tr><td>Day R Premium</td><td>4</td></tr><tr><td>Pocket Yoga</td><td>4</td></tr><tr><td>The Secret Daily Teachings</td><td>4</td></tr><tr><td>TI-84 CE Graphing Calculator Manual TI 84</td><td>4</td></tr><tr><td>DRAGON QUEST II</td><td>4</td></tr><tr><td>BT Speed</td><td>4</td></tr><tr><td>meStudying: AP English Lit</td><td>4</td></tr><tr><td>OmniMedix Medical Calculator</td><td>4</td></tr><tr><td>Absolute RC Heli Simulator</td><td>4</td></tr><tr><td>Steam: Rails to Riches</td><td>4</td></tr><tr><td>Advanced EX for KIA</td><td>4</td></tr><tr><td>iScore5 AP Psych</td><td>4</td></tr><tr><td>Dr. McDougall Mobile Cookbook</td><td>4</td></tr><tr><td>Lollipop Launcher Plus</td><td>4</td></tr><tr><td>Shadow Fight 2 Special Edition</td><td>4</td></tr><tr><td>D.C. Driving/Walking Tours</td><td>4</td></tr><tr><td>K-@ Mail Pro - Email App</td><td>4</td></tr><tr><td>Baby Connect (activity log)</td><td>4</td></tr><tr><td>Farming Simulator 18</td><td>4</td></tr><tr><td>Advanced EX for HYUNDAI</td><td>4</td></tr><tr><td>Don't Starve: Pocket Edition</td><td>4</td></tr><tr><td>QR Code Pro</td><td>4</td></tr><tr><td>G Cloud Apps Backup Key * root</td><td>4</td></tr><tr><td>California Cop Assist CA Cop</td><td>4</td></tr><tr><td>Learn Italian with MosaLingua</td><td>4</td></tr><tr><td>BJ Bridge Pro 2018</td><td>4</td></tr><tr><td>The Escapists</td><td>4</td></tr><tr><td>Super Resume Builder Pro, CV</td><td>4</td></tr><tr><td>LEGO ® Batman: Beyond Gotham</td><td>4</td></tr><tr><td>Avokiddo Emotions</td><td>4</td></tr><tr><td>Smart Launcher Pro 3</td><td>4</td></tr><tr><td>Traps n' Gemstones</td><td>4</td></tr><tr><td>Monument Valley 2</td><td>4</td></tr><tr><td>LEGO® Friends</td><td>4</td></tr><tr><td>PhotoFrame for Synology DS</td><td>4</td></tr><tr><td>Advanced EX for NISSAN</td><td>4</td></tr><tr><td>TI-Nspire CX Calculator Manual</td><td>4</td></tr><tr><td>F-Stop Gallery Pro</td><td>4</td></tr><tr><td>Lanterns: The Harvest Festival</td><td>4</td></tr><tr><td>Gunship III Vietnam People AF</td><td>4</td></tr><tr><td>My Talking Pet</td><td>4</td></tr><tr><td>Weather Live Pro</td><td>4</td></tr><tr><td>Lunar Calendar</td><td>4</td></tr><tr><td>EO Guide</td><td>4</td></tr><tr><td>Penny Puss</td><td>4</td></tr><tr><td>THE aMAZEing Labyrinth</td><td>4</td></tr><tr><td>Don't Starve: Shipwrecked</td><td>4</td></tr><tr><td>Writing Wizard Premium - Handwriting</td><td>4</td></tr><tr><td>PAC-MAN CE DX</td><td>4</td></tr><tr><td>G-Force Driving Assistant</td><td>3</td></tr><tr><td>iFish BC</td><td>3</td></tr><tr><td>AC DC Power Monitor</td><td>3</td></tr><tr><td>VeinSeek</td><td>3</td></tr><tr><td>ExDialer PRO Key</td><td>3</td></tr><tr><td>My Little Work – Garage</td><td>3</td></tr><tr><td>Weather Forecast Pro</td><td>3</td></tr><tr><td>CE Genius Nurses Edition</td><td>3</td></tr><tr><td>Ad Blocker for SayHi</td><td>3</td></tr><tr><td>BL 1-Click Camera</td><td>3</td></tr><tr><td>Menstrual Calendar Premium</td><td>3</td></tr><tr><td>Toca Builders</td><td>3</td></tr><tr><td>Teen Titans GO Figure!</td><td>3</td></tr><tr><td>Puffin Browser Pro</td><td>3</td></tr><tr><td>Differential Dx</td><td>3</td></tr><tr><td>Sago Mini Big City</td><td>3</td></tr><tr><td>Droidbug BusyBox Advance PRO</td><td>3</td></tr><tr><td>Kicker U</td><td>3</td></tr><tr><td>Sago Mini Hat Maker</td><td>3</td></tr><tr><td>Superbrothers Sword & Sworcery</td><td>3</td></tr><tr><td>EM Launcher Pro</td><td>3</td></tr><tr><td>Kernel Manager for Franco Kernel ✨</td><td>3</td></tr><tr><td>Toca Life: Hospital</td><td>3</td></tr><tr><td>Pocket RxTx Pro</td><td>3</td></tr><tr><td>17th Edition Cable Sizer</td><td>3</td></tr><tr><td>Myth Defense 2: DF Platinum</td><td>3</td></tr><tr><td>EMT Study - NREMT Test Prep</td><td>3</td></tr><tr><td>Dirt Trackin Sprint Cars</td><td>3</td></tr><tr><td>EG | Explore Folegandros</td><td>3</td></tr><tr><td>MommyMeds</td><td>3</td></tr><tr><td>My CookBook Pro (Ad Free)</td><td>3</td></tr><tr><td>Deaf - Hearing chat device H</td><td>3</td></tr><tr><td>Manage My Pain Pro</td><td>3</td></tr><tr><td>ONScripter Plus (Ad Free)</td><td>3</td></tr><tr><td>BL PowerPoint Remote</td><td>3</td></tr><tr><td>Breathing Zone</td><td>3</td></tr><tr><td>With Helper Pro Pill Reminder</td><td>3</td></tr><tr><td>CSCS BG (в български)</td><td>3</td></tr><tr><td>BW-Go</td><td>3</td></tr><tr><td>Jetting for Honda CR dirt bike</td><td>3</td></tr><tr><td>Toca Mystery House</td><td>3</td></tr><tr><td>Deep Sleep Battery Saver Pro</td><td>3</td></tr><tr><td>Anna.K Tarot</td><td>3</td></tr><tr><td>Teeny Titans - Teen Titans Go!</td><td>3</td></tr><tr><td>Automagic * Automation</td><td>3</td></tr><tr><td>Hey AJ! It's Saturday!</td><td>3</td></tr><tr><td>BZ Reminder PRO</td><td>3</td></tr><tr><td>BL IP-Camera</td><td>3</td></tr><tr><td>Reading Race 1b: sh, ch words</td><td>3</td></tr><tr><td>Battery HD Pro</td><td>3</td></tr><tr><td>ASRA Coags</td><td>3</td></tr><tr><td>LC-DB</td><td>3</td></tr><tr><td>Dr. Seuss's ABC</td><td>3</td></tr><tr><td>Tools & Mi Band</td><td>3</td></tr><tr><td>Meditation Studio</td><td>3</td></tr><tr><td>Age of Conquest: N. America</td><td>3</td></tr><tr><td>Ultimate Public Campgrounds (Over 37,100 in US&CA)</td><td>3</td></tr><tr><td>EU RCD Guide</td><td>3</td></tr><tr><td>Mike V: Skateboard Party PRO</td><td>3</td></tr><tr><td>Ba Financial Calculator plus</td><td>3</td></tr><tr><td>Decibel X PRO - Sound Meter dBA, Noise Detector</td><td>3</td></tr><tr><td>Financial Calculator BA Chien.</td><td>3</td></tr><tr><td>BatControl Pro</td><td>3</td></tr><tr><td>Migraine, Headache Diary HeadApp Pro</td><td>3</td></tr><tr><td>End Anxiety Pro - Stress, Panic Attack Help</td><td>3</td></tr><tr><td>O'Route Orienteering</td><td>3</td></tr><tr><td>Whoowasit? - Best kids game!</td><td>2</td></tr><tr><td>Sokoban Land DX</td><td>2</td></tr><tr><td>Flipped Out! - Powerpuff Girls</td><td>2</td></tr><tr><td>Dr. Panda Restaurant 2</td><td>2</td></tr><tr><td>CN Superstar Soccer: Goal!!!</td><td>2</td></tr><tr><td>My Budget Book</td><td>2</td></tr><tr><td>DR.MEEP</td><td>2</td></tr><tr><td>Smart Wi-Fi Hotspot PRO</td><td>2</td></tr><tr><td>Guns'n'Glory Premium</td><td>2</td></tr><tr><td>Guns'n'Glory WW2 Premium</td><td>2</td></tr><tr><td>Ain Arabic Kids Alif Ba ta</td><td>2</td></tr><tr><td>Técnico Legislativo Câmara Legislativa DF</td><td>2</td></tr><tr><td>Dr. Panda Hospital</td><td>2</td></tr><tr><td>Skip-Bo™</td><td>2</td></tr><tr><td>MyRadar NOAA Weather Radar Ad Free</td><td>2</td></tr><tr><td>Alarmy (Sleep If U Can) - Pro</td><td>2</td></tr><tr><td>Muscle Trigger Point Anatomy</td><td>2</td></tr><tr><td>Ai-Ball AV Recorder</td><td>2</td></tr><tr><td>cronometer (ad free)</td><td>2</td></tr><tr><td>Gravidez ao Vivo</td><td>2</td></tr><tr><td>Age of AI: War Strategy</td><td>2</td></tr><tr><td>Active Soccer 2 DX</td><td>2</td></tr><tr><td>Private Dating, Hide App- Blue for PrivacyHider</td><td>2</td></tr><tr><td>Five Nights at Freddy's</td><td>2</td></tr><tr><td>Threema</td><td>2</td></tr><tr><td>Cameringo+ Filters Camera</td><td>2</td></tr><tr><td>The Hunt for the Lost Treasure</td><td>2</td></tr><tr><td>Five Nights at Freddy's 4</td><td>2</td></tr><tr><td>DC Metro Transit</td><td>2</td></tr><tr><td>Calcium Pro</td><td>2</td></tr><tr><td>Peppa Pig: Party Time</td><td>2</td></tr><tr><td>Masha and the Bear - Hair Salon and MakeUp Games</td><td>2</td></tr><tr><td>Tasker</td><td>2</td></tr><tr><td>Tsuro - The Game of the Path</td><td>2</td></tr><tr><td>WiFi Tether Router</td><td>2</td></tr><tr><td>FHR 5-Tier 2.0</td><td>2</td></tr><tr><td>Visual Anatomy 2</td><td>2</td></tr><tr><td>m>notes notepad</td><td>2</td></tr><tr><td>Bo's School Day</td><td>2</td></tr><tr><td>Medical terms (OFFLINE)</td><td>2</td></tr><tr><td>Asiimov Skin - CS GO Icon Pack</td><td>2</td></tr><tr><td>Guns'n'Glory Heroes Premium</td><td>2</td></tr><tr><td>Shopping List S PRO</td><td>2</td></tr><tr><td>Retro City Rampage DX</td><td>2</td></tr><tr><td>Morse Trainer for Ham Radio</td><td>2</td></tr><tr><td>Super Hearing Secret Voices Recorder PRO</td><td>2</td></tr><tr><td>AC CE BJT Actorial</td><td>2</td></tr><tr><td>Squeezy CF</td><td>2</td></tr><tr><td>Führerschein Klasse CE, LKW 2018</td><td>2</td></tr><tr><td>Paris ci la Sortie du Métro</td><td>2</td></tr><tr><td>Pocket Lab Values</td><td>2</td></tr><tr><td>Five Nights at Freddy's 2</td><td>2</td></tr><tr><td>Organizer</td><td>2</td></tr><tr><td>Talkie Pro - Wi-Fi Calling, Chats, File Sharing</td><td>2</td></tr><tr><td>Battery Notifier Pro BT</td><td>2</td></tr><tr><td>AQ Math Facts</td><td>2</td></tr><tr><td>Learn CW</td><td>2</td></tr><tr><td>I am Millionaire - Richest guy in the town</td><td>2</td></tr><tr><td>Attack the Light</td><td>2</td></tr><tr><td>Visualmed</td><td>2</td></tr><tr><td>I Can't Wake Up!</td><td>2</td></tr><tr><td>The DG Buddy</td><td>2</td></tr><tr><td>ap,wifi testing,iperf,ping,android,Bluetooth,tcp</td><td>2</td></tr><tr><td>Hactar Go</td><td>2</td></tr><tr><td>Navigator PRO - GPS Navigation with Offline Maps</td><td>2</td></tr><tr><td>DRAGON QUEST</td><td>2</td></tr><tr><td>Z Origins - (Z The Game)</td><td>2</td></tr><tr><td>CW Ringtone (Morse Code generator)</td><td>2</td></tr><tr><td>Out There Chronicles - Ep. 2</td><td>2</td></tr><tr><td>EG Classroom Decimals™</td><td>2</td></tr><tr><td>Farming Simulator 16</td><td>2</td></tr><tr><td>Real Sheet ∞: Pathfinder + DT</td><td>2</td></tr><tr><td>Ramfer - CNC Lathe G-code Tool</td><td>2</td></tr><tr><td>BusyBox Pro</td><td>2</td></tr><tr><td>Cossack Dictionary (DN)</td><td>2</td></tr><tr><td>Board Game Stats: Play tracking for tabletop games</td><td>2</td></tr><tr><td>Guns'n'Glory Zombies Premium</td><td>2</td></tr><tr><td>Jump'N'Shoot Attack</td><td>2</td></tr><tr><td>AV Tools Pro</td><td>2</td></tr><tr><td>Riptide GP: Renegade</td><td>2</td></tr><tr><td>ES File Explorer/Manager PRO</td><td>2</td></tr><tr><td>AI Draw | Art Filter for Selfie</td><td>2</td></tr><tr><td>Message AI - Write Better Messages</td><td>2</td></tr><tr><td>Fodbold DK Pro</td><td>2</td></tr><tr><td>Bo's Bedtime Story</td><td>2</td></tr><tr><td>Wuwu & Co.</td><td>2</td></tr><tr><td>Advanced Download Manager Pro</td><td>2</td></tr><tr><td>Bubble Shooter DX AdFree</td><td>2</td></tr><tr><td>Pinkalicious Party</td><td>2</td></tr><tr><td>Don't Panic with Andrew J.</td><td>2</td></tr><tr><td>Out There Chronicles - Ep. 1</td><td>2</td></tr><tr><td>Theatre of the Absurd CE(Full)</td><td>2</td></tr><tr><td>Day Night Live Wallpaper (All)</td><td>2</td></tr><tr><td>Dr. Panda Farm</td><td>2</td></tr><tr><td>Speech Therapy: F</td><td>2</td></tr><tr><td>Lapse It • Time Lapse • Pro</td><td>2</td></tr><tr><td>PROFESSOR SEE-BA LINGUAGENS E SUAS TECNOLOGIAS</td><td>2</td></tr><tr><td>ZArchiver Donate</td><td>2</td></tr><tr><td>YouCamp EU</td><td>2</td></tr><tr><td>iLauncher OS 12 Pro - Phone X</td><td>2</td></tr><tr><td>Formula Cartoon All Stars</td><td>2</td></tr><tr><td>Bloons TD 5</td><td>2</td></tr><tr><td>Meme Generator</td><td>2</td></tr><tr><td>C Locker Pro</td><td>2</td></tr><tr><td>Best Park in the Universe</td><td>2</td></tr><tr><td>Tetrobot and Co.</td><td>2</td></tr><tr><td>Detect-O-Gromit (D.O.G 2)</td><td>2</td></tr><tr><td>My Little Princess : Stores</td><td>2</td></tr><tr><td>Weather & Radar Pro - Ad-Free</td><td>2</td></tr><tr><td>RAM Cleanup Ad-Free Option</td><td>2</td></tr><tr><td>CM FILE MANAGER Pro</td><td>2</td></tr><tr><td>Card Wars - Adventure Time</td><td>2</td></tr><tr><td>Lab Values + Medical Reference</td><td>2</td></tr><tr><td>King of Math</td><td>2</td></tr><tr><td>Solitaire+</td><td>2</td></tr><tr><td>C4droid - C/C++ compiler & IDE</td><td>2</td></tr><tr><td>F-1 watchface by Delta</td><td>2</td></tr><tr><td>Hunt Buddy BC</td><td>2</td></tr><tr><td>Sonic 4™ Episode I</td><td>2</td></tr><tr><td>Bixby Button Remapper - bxActions Pro / Coffee</td><td>2</td></tr><tr><td>Depths of Betrayal CE (Full)</td><td>2</td></tr><tr><td>BL Holo Theme</td><td>2</td></tr><tr><td>Bo's Dinnertime Story</td><td>2</td></tr><tr><td>Cargo de Praça PM DF</td><td>2</td></tr><tr><td>Relax Melodies P: Sleep Sounds</td><td>2</td></tr><tr><td>Five Nights at Freddy's: SL</td><td>2</td></tr><tr><td>Silence Premium Do Not Disturb</td><td>2</td></tr><tr><td>N Launcher Pro - Nougat 7.0</td><td>2</td></tr><tr><td>Scale Models DB</td><td>2</td></tr><tr><td>Pain Tracker & Diary</td><td>2</td></tr><tr><td>Phonics Puzzles</td><td>2</td></tr><tr><td>Weather Data CH</td><td>2</td></tr><tr><td>Alizay, pirate girl</td><td>2</td></tr><tr><td>Égalité et Réconciliation</td><td>2</td></tr><tr><td>LocaToWeb - Live GPS tracking</td><td>2</td></tr><tr><td>Ability DS UNO</td><td>2</td></tr><tr><td>Five Nights at Freddy's 3</td><td>2</td></tr><tr><td>ADWLauncher 1 EX</td><td>2</td></tr><tr><td>F Length Sim (no Ads)</td><td>2</td></tr><tr><td>AP Government Review</td><td>2</td></tr><tr><td>Basket Manager 2018 Pro</td><td>2</td></tr><tr><td>FlashLight HD LED Pro</td><td>2</td></tr><tr><td>Penny Finder</td><td>2</td></tr><tr><td>WiFi Monitor Pro - analyzer of Wi-Fi networks</td><td>2</td></tr><tr><td>Dr. Panda Supermarket</td><td>2</td></tr><tr><td>Mind Games Pro</td><td>2</td></tr><tr><td>Vpn Hosts (ad blocker & no root & support ipv6 )</td><td>2</td></tr><tr><td>Beck & Bo: Toddler First Words</td><td>2</td></tr><tr><td>Dr. Panda Art Class</td><td>2</td></tr><tr><td>Koch Morse Trainer Pro</td><td>2</td></tr><tr><td>Dark Infusion Substratum Theme for Android N & O</td><td>2</td></tr><tr><td>Ray Financial Calculator Pro</td><td>2</td></tr><tr><td>Servidor Privado CR y CoC - Royale Servers PRO</td><td>1</td></tr><tr><td>FJ Toolkit</td><td>1</td></tr><tr><td>Dr. Panda's Swimming Pool</td><td>1</td></tr><tr><td>MultiPicture Live Wallpaper dn</td><td>1</td></tr><tr><td>WIZARD Card Game</td><td>1</td></tr><tr><td>Arrhythmias and Dysrhythmias</td><td>1</td></tr><tr><td>Next Launcher 3D Theme Hit-G</td><td>1</td></tr><tr><td>AP Series Solution Pro</td><td>1</td></tr><tr><td>Math games for kids : times tables training</td><td>1</td></tr><tr><td>Es-Bg Offline Voice Translator</td><td>1</td></tr><tr><td>BeFunky Photo Editor Pro</td><td>1</td></tr><tr><td>MEGA MAN MOBILE</td><td>1</td></tr><tr><td>W Pro - Weather Forecast & Animated Weather Maps</td><td>1</td></tr><tr><td>Power Widget</td><td>1</td></tr><tr><td>Wi-Fi Rabbit Unlock Key</td><td>1</td></tr><tr><td>CW Beacon for Ham Radio</td><td>1</td></tr><tr><td>J Alvarej Moji</td><td>1</td></tr><tr><td>Android P | Xperia™ Theme 4800+ icons</td><td>1</td></tr><tr><td>Ulysse Speedometer Pro</td><td>1</td></tr><tr><td>Android P Home KLWP</td><td>1</td></tr><tr><td>Pacify Exceed (Android P) - Theme for Xperia™</td><td>1</td></tr><tr><td>Pujie Black Watch Face for Android Wear OS</td><td>1</td></tr><tr><td>X Home Bar - Home Bar Gesture Pro</td><td>1</td></tr><tr><td>Volume Control Ex</td><td>1</td></tr><tr><td>H*nest Meditation</td><td>1</td></tr><tr><td>AJ Jump: Animal Jam Kangaroos!</td><td>1</td></tr><tr><td>Sic Bo</td><td>1</td></tr><tr><td>Theme Android P Black for LG G7 & V35</td><td>1</td></tr><tr><td>True Skate</td><td>1</td></tr><tr><td>R-TYPE</td><td>1</td></tr><tr><td>Dialer theme G Black Gold</td><td>1</td></tr><tr><td>FVD Ad-Free</td><td>1</td></tr><tr><td>EX File Explorer File Manage Pro</td><td>1</td></tr><tr><td>Alif Ba Ta Bullseye</td><td>1</td></tr><tr><td>Car Driving Theory Test BC</td><td>1</td></tr><tr><td>CamScanner (License)</td><td>1</td></tr><tr><td>Dungeons and Dragons DM Tools</td><td>1</td></tr><tr><td>20WPM Amateur ham radio Koch CW Morse code trainer</td><td>1</td></tr><tr><td>Basketball Dynasty Manager 16</td><td>1</td></tr><tr><td>SCI-FI UI</td><td>1</td></tr><tr><td>25WPM Amateur ham radio Koch CW Morse code trainer</td><td>1</td></tr><tr><td>Paramedic Meds</td><td>1</td></tr><tr><td>Билеты ПДД CD 2019 PRO</td><td>1</td></tr><tr><td>Speech Therapy: CH</td><td>1</td></tr><tr><td>Analog Clock AW-7 PRO</td><td>1</td></tr><tr><td>BlackCam Pro - B&W Camera</td><td>1</td></tr><tr><td>PORTABLE SOCCER DX</td><td>1</td></tr><tr><td>Where's My Water?</td><td>1</td></tr><tr><td>Inventory & Barcode scanner & WIFI scanner</td><td>1</td></tr><tr><td>FL SW Fishing Regulations</td><td>1</td></tr><tr><td>BA Pro Financial Calculator</td><td>1</td></tr><tr><td>G Theme 2 for LG V30, LG G6</td><td>1</td></tr><tr><td>Stand O’Food® (Full)</td><td>1</td></tr><tr><td>30WPM Amateur ham radio Koch CW Morse code trainer</td><td>1</td></tr><tr><td>Ghouls'n Ghosts MOBILE</td><td>1</td></tr><tr><td>Be Stronger</td><td>1</td></tr><tr><td>Cytus II</td><td>1</td></tr><tr><td>XE Currency Pro</td><td>1</td></tr><tr><td>FL Racing Manager 2018 Pro</td><td>1</td></tr><tr><td>weather HD</td><td>1</td></tr><tr><td>Clue</td><td>1</td></tr><tr><td>BL File Explorer</td><td>1</td></tr><tr><td>Truth or Dare Pro</td><td>1</td></tr><tr><td>Morse Player</td><td>1</td></tr><tr><td>EC music dictionary</td><td>1</td></tr><tr><td>Ra Ga Ba</td><td>1</td></tr><tr><td>2 Amateur ham radio CW Morse code practice keys TX</td><td>1</td></tr><tr><td>Remote EX for NISSAN</td><td>1</td></tr><tr><td>Pureness Pacify (Android P) - Theme for Xperia™</td><td>1</td></tr><tr><td>Lullaby Add-on for Sleep as Android</td><td>1</td></tr><tr><td>Analog and Digital Clock AW-7PRO</td><td>1</td></tr><tr><td>10 WPM Amateur ham radio CW Morse code trainer</td><td>1</td></tr><tr><td>Santa's Monster Shootout DX</td><td>1</td></tr><tr><td>Monastery of El Escorial</td><td>1</td></tr><tr><td>ADS-B Driver</td><td>1</td></tr><tr><td>Theme Android P Design for LG V30</td><td>1</td></tr><tr><td>CF-Bench Pro</td><td>1</td></tr><tr><td>Ad Remove Plugin for App2SD</td><td>1</td></tr><tr><td>RETRO Shocked DW-6000</td><td>1</td></tr><tr><td>PitchBlack S - Samsung Substratum Theme “For Oreo”</td><td>1</td></tr><tr><td>BC MVA Fines</td><td>1</td></tr><tr><td>K.MOJI</td><td>1</td></tr><tr><td>Trazado de tuberia El Tubero</td><td>1</td></tr><tr><td>X Construction</td><td>1</td></tr><tr><td>G-Playlists</td><td>1</td></tr><tr><td>Space Z 🌏 🚀Icon Pack Theme</td><td>1</td></tr><tr><td>LightMeter (noAds)</td><td>1</td></tr><tr><td>Arto: f.infrared photo</td><td>1</td></tr><tr><td>Pixel Oreo/P Dark White AMOLED UI - Icon Pack</td><td>1</td></tr><tr><td>Dive-Store.ch</td><td>1</td></tr><tr><td>Theme Android P Black design for LG V30</td><td>1</td></tr><tr><td>db Meter - sound level meter with data logging</td><td>1</td></tr><tr><td>Assassin's Creed Identity</td><td>1</td></tr><tr><td>Next Launcher 3D Theme Hit-B</td><td>1</td></tr><tr><td>Ludo - Don't get angry</td><td>1</td></tr><tr><td>Daily Ab Workout</td><td>1</td></tr><tr><td>Theme Android P for LG G7 & V35</td><td>1</td></tr><tr><td>Pistachio Launcher for Android P 9.0</td><td>1</td></tr><tr><td>X Launcher Pro - IOS Style Theme & Control Center</td><td>1</td></tr><tr><td>B-17 Flying Fortress WWII LWP</td><td>1</td></tr><tr><td>B-Grade Renegade</td><td>1</td></tr><tr><td>R-TYPE II</td><td>1</td></tr><tr><td>The Artificial Intelligence Project (A.I. Chat)</td><td>1</td></tr><tr><td>IF YOU TO EU PEGO</td><td>1</td></tr><tr><td>X Launcher Prime: With OS Style Theme & No Ads</td><td>1</td></tr><tr><td>BS Detector - Diss 'n' Gauges</td><td>1</td></tr><tr><td>Unstoppaball DX</td><td>1</td></tr><tr><td>Learn Music Notes</td><td>1</td></tr><tr><td>¡Ay Caramba!</td><td>1</td></tr><tr><td>Masha and the Bear- House Cleaning Games for Girls</td><td>1</td></tr><tr><td>Q Avatar Pro</td><td>1</td></tr><tr><td>tTorrent - ad free</td><td>1</td></tr><tr><td>ch-mm Dict</td><td>1</td></tr><tr><td>X Launcher Pro: PhoneX Theme, OS11 Control Center</td><td>1</td></tr><tr><td>Learn Quran with Elif Ba</td><td>1</td></tr><tr><td>Smart Launcher theme b. gold</td><td>1</td></tr><tr><td>Anti Mosquito simulation</td><td>1</td></tr><tr><td>Whist - Tinnitus Relief</td><td>1</td></tr><tr><td>Swift Dark CM / CM13 Theme</td><td>1</td></tr><tr><td>AP Themes for Kustom/KLWP</td><td>1</td></tr><tr><td>Flud (Ad free)</td><td>1</td></tr><tr><td>Train Sim Pro</td><td>1</td></tr><tr><td>FiSwitch</td><td>1</td></tr><tr><td>sugar, sugar</td><td>1</td></tr><tr><td>Truck Driving Test Class 3 BC</td><td>1</td></tr><tr><td>EP McGuffey Primer</td><td>1</td></tr><tr><td>Galaxian(FC)</td><td>1</td></tr><tr><td>Q-slope</td><td>1</td></tr><tr><td>TV Guide BR Gold</td><td>1</td></tr><tr><td>Word Search Tab 1 FR</td><td>1</td></tr><tr><td>The Great Wobo Escape Ep.1</td><td>1</td></tr><tr><td>Rockstars of Ooo</td><td>1</td></tr><tr><td>Math Games for Pre-K - Grade 4</td><td>1</td></tr><tr><td>Popsicle Launcher for Android P 9.0 launcher</td><td>1</td></tr><tr><td>[substratum] Vacuum: P</td><td>1</td></tr><tr><td>SweetLand — Family Board Game</td><td>0</td></tr><tr><td>Be the Expert in Phlebotomy - Professional Nursing</td><td>0</td></tr><tr><td>pretty Easy privacy p≡p</td><td>0</td></tr><tr><td>DK Primrose for KLWP</td><td>0</td></tr><tr><td>AJ Gray Dark Icon Pack</td><td>0</td></tr><tr><td>F05WatchFace for Android Wear</td><td>0</td></tr><tr><td>Morse Machine for Ham Radio</td><td>0</td></tr><tr><td>ZOOKEEPER DX TouchEdition</td><td>0</td></tr><tr><td>Socle Commun BO du 23-04-2015</td><td>0</td></tr><tr><td>Hitman Sniper</td><td>0</td></tr><tr><td>Light X - Icon Pack</td><td>0</td></tr><tr><td>Poker Equity Calculator Pro for No Limit Hold'em</td><td>0</td></tr><tr><td>League of Stickman 2018- Ninja Arena PVP(Dreamsky)</td><td>0</td></tr><tr><td>An Elite Warrior Ex</td><td>0</td></tr><tr><td>Fruit Ninja Classic</td><td>0</td></tr><tr><td>DW Contacts widget</td><td>0</td></tr><tr><td>Glanceable Ap Watch Face</td><td>0</td></tr><tr><td>Nightenfell: Shared AR</td><td>0</td></tr><tr><td>Michael's AG Sound Board</td><td>0</td></tr><tr><td>AJ Orange Icon Pack</td><td>0</td></tr><tr><td>My Virtual Boyfriend</td><td>0</td></tr><tr><td>All-night drugstore CI & Price</td><td>0</td></tr><tr><td>B-52 Spirits of Glory Deluxe</td><td>0</td></tr><tr><td>Neon Glow C - Icon Pack</td><td>0</td></tr><tr><td>Volume Slider Like Android P Volume Control</td><td>0</td></tr><tr><td>Reksio cz. 1</td><td>0</td></tr><tr><td>Infinity Dungeon VIP</td><td>0</td></tr><tr><td>F*ck This Game</td><td>0</td></tr><tr><td>Planet O - Icon Pack</td><td>0</td></tr><tr><td>Easy Hotspot Ad Free</td><td>0</td></tr><tr><td>Hitman GO</td><td>0</td></tr><tr><td>Ice Crush 10.000 B.C.</td><td>0</td></tr><tr><td>Portable Wi-Fi hotspot Premium</td><td>0</td></tr><tr><td>DL Image Manager</td><td>0</td></tr><tr><td>O Céu e o Inferno</td><td>0</td></tr><tr><td>AJ Turquoise Dark Icon Pack</td><td>0</td></tr><tr><td>Emergency Brain CT</td><td>0</td></tr><tr><td>Jurassic Life: T Rex Simulator</td><td>0</td></tr><tr><td>AJ Blue Icon Pack</td><td>0</td></tr><tr><td>AJ Gray Icon Pack</td><td>0</td></tr><tr><td>Mu.F.O.</td><td>0</td></tr><tr><td>World Racers family board game</td><td>0</td></tr><tr><td>El Chavo</td><td>0</td></tr><tr><td>CT and XR Dose Calculator</td><td>0</td></tr><tr><td>DCUO|CR Calculator Pro</td><td>0</td></tr><tr><td>Antenna Tool Premium</td><td>0</td></tr><tr><td>EP Calipers</td><td>0</td></tr><tr><td>Dots puzzle</td><td>0</td></tr><tr><td>Ski Safari: Adventure Time</td><td>0</td></tr><tr><td>Cut the Rope GOLD</td><td>0</td></tr><tr><td>P-Home for KLWP</td><td>0</td></tr><tr><td>X-Plane to GPS</td><td>0</td></tr><tr><td>Bi-Tank Ads Free</td><td>0</td></tr><tr><td>A41 WatchFace for Android Wear Smart Watch</td><td>0</td></tr><tr><td>Mupen64Plus AE (N64 Emulator)</td><td>0</td></tr><tr><td>Next Launcher 3D Bold-CF Theme</td><td>0</td></tr><tr><td>Pacify (Android P theme) - Theme for Xperia™</td><td>0</td></tr><tr><td>Blood Pressure Companion</td><td>0</td></tr><tr><td>INTERACTIVE CALCULUS PRO</td><td>0</td></tr><tr><td>Circle Colors Pack-FN Theme</td><td>0</td></tr><tr><td>Bo's Matching Game</td><td>0</td></tr><tr><td>Q Alerts: QAnon Drop Notifications, Research +++</td><td>0</td></tr><tr><td>FL Racing Manager 2015 Pro</td><td>0</td></tr><tr><td>ReDNAKET DB Normalization Tool</td><td>0</td></tr><tr><td>YAKALA AY</td><td>0</td></tr><tr><td>Basket Manager 2016 Pro</td><td>0</td></tr><tr><td>Little Magnet BT Pro</td><td>0</td></tr><tr><td>ABG Master</td><td>0</td></tr><tr><td>Ghosts'n Goblins MOBILE</td><td>0</td></tr><tr><td>[Sub/EMUI] P Pro - EMUI 8.1/8.0/5.X Theme</td><td>0</td></tr><tr><td>palmPEDi: Pediatric Tape</td><td>0</td></tr><tr><td>CI 174 Gray Icon Pack</td><td>0</td></tr><tr><td>Stickman Legends: Shadow Wars</td><td>0</td></tr><tr><td>Dress Up RagazzA13 DX</td><td>0</td></tr><tr><td>Lost Journey (Dreamsky)</td><td>0</td></tr><tr><td>211:CK</td><td>0</td></tr><tr><td>Android P Style Icon Pack</td><td>0</td></tr><tr><td>X Back - Icon Pack</td><td>0</td></tr><tr><td>Schlaumeier</td><td>0</td></tr><tr><td>DM Die Roller 9000</td><td>0</td></tr><tr><td>Kairo XP (for HD Widgets)</td><td>0</td></tr><tr><td>BS Match Maker Premium</td><td>0</td></tr><tr><td>FP VoiceBot</td><td>0</td></tr><tr><td>HD Widgets</td><td>0</td></tr><tr><td>P Icon Pack</td><td>0</td></tr><tr><td>Obbligo o Verità? PRO</td><td>0</td></tr><tr><td>W-History Standalone</td><td>0</td></tr><tr><td>EU Flags Live Wallpaper</td><td>0</td></tr><tr><td>All-in-One Mahjong 3</td><td>0</td></tr><tr><td>Mental Hospital V</td><td>0</td></tr><tr><td>CE Map - Interactive Conan Exiles Map</td><td>0</td></tr><tr><td>FAV KWGT</td><td>0</td></tr><tr><td>DX Glow - Clock Widget</td><td>0</td></tr><tr><td>iBP Blood Pressure</td><td>0</td></tr><tr><td>Watch Face Swiss AJ-6</td><td>0</td></tr><tr><td>Interactive NPC DM Tool</td><td>0</td></tr><tr><td>Ultimate Watch 2 watch face</td><td>0</td></tr><tr><td>FO Bixby</td><td>0</td></tr><tr><td>Trinomial Factoring Wizard</td><td>0</td></tr><tr><td>OMEGA Black UI Theme - CM 12+</td><td>0</td></tr><tr><td>Bk Bee Sales Manager</td><td>0</td></tr><tr><td>Pixxy KWGT</td><td>0</td></tr><tr><td>Nursing Care Plan NANDA Tables</td><td>0</td></tr><tr><td>Watch Face BW Inter</td><td>0</td></tr><tr><td>Go</td><td>0</td></tr><tr><td>iCluster - The DX-Cluster database</td><td>0</td></tr><tr><td>UFO-CQ</td><td>0</td></tr><tr><td>Device Info Ex Live Wallpaper</td><td>0</td></tr><tr><td>BringGo AU & NZ</td><td>0</td></tr><tr><td>Koi Live Wallpaper</td><td>0</td></tr><tr><td>AX Watch for WatchMaker</td><td>0</td></tr><tr><td>Color Changer Pro [root]</td><td>0</td></tr><tr><td>CI Attendance</td><td>0</td></tr><tr><td>Lock 'n' Roll Pro - Ad Free</td><td>0</td></tr><tr><td>Wolf of the BF:Commando MOBILE</td><td>0</td></tr><tr><td>CW Studio ®</td><td>0</td></tr><tr><td>AG Subway Simulator Mobile</td><td>0</td></tr><tr><td>CV-RECORD Pro</td><td>0</td></tr><tr><td>FREE CHATS C.L.</td><td>0</td></tr><tr><td>GO Contacts EX Black & Grey</td><td>0</td></tr><tr><td>D+H Reaction Wall</td><td>0</td></tr><tr><td>CB Frequencies</td><td>0</td></tr><tr><td>CS go bomb simulator</td><td>0</td></tr><tr><td>Deus Ex GO</td><td>0</td></tr><tr><td>Frequencies</td><td>0</td></tr><tr><td>DZ Puzzle</td><td>0</td></tr><tr><td>My baby firework (Remove ad)</td><td>0</td></tr><tr><td>BI Barcode Scanner</td><td>0</td></tr><tr><td>10,000 Quotes DB (Premium)</td><td>0</td></tr><tr><td>E.G. Chess</td><td>0</td></tr><tr><td>Basket Manager 2017 Pro</td><td>0</td></tr><tr><td>European War 6: 1804</td><td>0</td></tr><tr><td>WhatsFake Pro (Ad free)</td><td>0</td></tr><tr><td>Diseño de columnas NTC - RSEE 2017</td><td>0</td></tr><tr><td>CA Speakers</td><td>0</td></tr><tr><td>Online TV CZ/SK PRO</td><td>0</td></tr><tr><td>Sam.BN Pro</td><td>0</td></tr><tr><td>Neon-R (Red)</td><td>0</td></tr><tr><td>Droid PRoCon BF3</td><td>0</td></tr><tr><td>Zombie Avengers:(Dreamsky)Stickman War Z</td><td>0</td></tr><tr><td>EP Coding</td><td>0</td></tr><tr><td>Ay Yıldız - Xperia Live Theme</td><td>0</td></tr><tr><td>Chinese Chess 3D Online (Xiangqi, 象棋, co tuong)</td><td>0</td></tr><tr><td>Chronolink DX</td><td>0</td></tr><tr><td>CURSUM B</td><td>0</td></tr></tbody></table></div>"
      ]
     },
     "metadata": {
      "application/vnd.databricks.v1+output": {
       "addedWidgets": {},
       "aggData": [],
       "aggError": "",
       "aggOverflow": false,
       "aggSchema": [],
       "aggSeriesLimitReached": false,
       "aggType": "",
       "arguments": {},
       "columnCustomDisplayInfos": {},
       "data": [
        [
         "I'm Rich - Trump Edition",
         400
        ],
        [
         "I am Rich Plus",
         399
        ],
        [
         "I AM RICH PRO PLUS",
         399
        ],
        [
         "I'm Rich/Eu sou Rico/أنا غني/我很有錢",
         399
        ],
        [
         "I Am Rich Premium",
         399
        ],
        [
         "most expensive app (H)",
         399
        ],
        [
         "I Am Rich Pro",
         399
        ],
        [
         "I am rich(premium)",
         399
        ],
        [
         "I am Rich",
         399
        ],
        [
         "I am Rich!",
         399
        ],
        [
         "💎 I'm rich",
         399
        ],
        [
         "I am rich (Most expensive app)",
         399
        ],
        [
         "I am rich",
         399
        ],
        [
         "Eu Sou Rico",
         394
        ],
        [
         "I Am Rich",
         389
        ],
        [
         "I am extremely Rich",
         379
        ],
        [
         "I am rich VIP",
         299
        ],
        [
         "EP Cook Book",
         200
        ],
        [
         "Vargo Anesthesia Mega App",
         158
        ],
        [
         "cronometra-br",
         154
        ],
        [
         "BP Fitness Lead Scanner",
         109
        ],
        [
         "Lean EQ",
         89
        ],
        [
         "Language Therapy: Aphasia",
         74
        ],
        [
         "Human Anatomy Atlas 2018: Complete 3D Human Body",
         72
        ],
        [
         "A Manual of Acupuncture",
         66
        ],
        [
         "EMT PASS",
         58
        ],
        [
         "PTA Content Master",
         58
        ],
        [
         "Advanced Comprehension Therapy",
         48
        ],
        [
         "Muscle Premium - Human Anatomy, Kinesiology, Bones",
         48
        ],
        [
         "Dr.Dice - Sic bo analyzer",
         46
        ],
        [
         "Norwegian For Kids & Babies F",
         39
        ],
        [
         "LTC AS Legal",
         39
        ],
        [
         "Hospitalist Handbook",
         38
        ],
        [
         "I am Rich Person",
         37
        ],
        [
         "2017 EMRA Antibiotic Guide",
         32
        ],
        [
         "Eu sou Rico",
         30
        ],
        [
         "Golfshot Plus: Golf GPS",
         29
        ],
        [
         "AP Art History Flashcards",
         29
        ],
        [
         "Guide to Nikon Df",
         29
        ],
        [
         "Dz kayas",
         28
        ],
        [
         "AnatomyMapp",
         28
        ],
        [
         "Block Buddy",
         28
        ],
        [
         "G-NetReport Pro",
         25
        ],
        [
         "Cardiac diagnosis (heart rate, arrhythmia)",
         24
        ],
        [
         "Essential Anatomy 3",
         22
        ],
        [
         "EMT Review Plus",
         22
        ],
        [
         "Paramedic Protocol Provider",
         20
        ],
        [
         "DRAGON QUEST VIII",
         19
        ],
        [
         "AW Toolbox",
         19
        ],
        [
         "USMLE Step 2 CK Flashcards",
         19
        ],
        [
         "boattheory.ch Full 2018",
         19
        ],
        [
         "Z PIVOT",
         19
        ],
        [
         "NewTek NDI",
         19
        ],
        [
         "ASCCP Mobile",
         18
        ],
        [
         "Monash Uni Low FODMAP Diet",
         18
        ],
        [
         "Diabetes & Diet Tracker",
         18
        ],
        [
         "I am Rich Premium Plus",
         18
        ],
        [
         "The World Ends With You",
         17
        ],
        [
         "SkyTest BU/GU Lite",
         17
        ],
        [
         "Trine 2: Complete Story",
         16
        ],
        [
         "Facetune - For Free",
         15
        ],
        [
         "Navi Radiography Pro",
         15
        ],
        [
         "Interactive CT and MRI Anatomy",
         15
        ],
        [
         "Electrician Calculator Pro",
         14
        ],
        [
         "DRAGON QUEST V",
         14
        ],
        [
         "G-NetTrack Pro",
         14
        ],
        [
         "DRAGON QUEST VI",
         14
        ],
        [
         "DRAGON QUEST IV",
         14
        ],
        [
         "Chess of Blades (BL/Yaoi Game) (No VA)",
         14
        ],
        [
         "Number Therapy",
         14
        ],
        [
         "Blackjack Verite Drills",
         14
        ],
        [
         "Ak Parti Yardım Toplama",
         13
        ],
        [
         "FINAL FANTASY DIMENSIONS",
         13
        ],
        [
         "Minecraft",
         12
        ],
        [
         "ZombieVital DG",
         12
        ],
        [
         "Carrier Landings Pro",
         12
        ],
        [
         "DS Helpdesk Plus",
         12
        ],
        [
         "Journal Club: Medicine",
         12
        ],
        [
         "BackCountry Navigator TOPO GPS PRO",
         11
        ],
        [
         "Medical ID - In Case of Emergency (ICE)",
         10
        ],
        [
         "go41cx",
         10
        ],
        [
         "CCHT PREP",
         10
        ],
        [
         "Pedi STAT",
         10
        ],
        [
         "RPG ブレイジング ソウルズ アクセレイト",
         10
        ],
        [
         "Fuzzy Numbers: Pre-K Number Foundation",
         10
        ],
        [
         "XCOM®: Enemy Within",
         9
        ],
        [
         "FORD V SERIES CALC - NO LIMIT",
         9
        ],
        [
         "Dr. Panda & Toto's Treehouse",
         9
        ],
        [
         "Star Wars ™: DIRTY",
         9
        ],
        [
         "Vital Tones EI Pro",
         9
        ],
        [
         "Baldur's Gate: Enhanced Edition",
         9
        ],
        [
         "BIG Launcher",
         9
        ],
        [
         "Jeppesen CR Flight Computer",
         9
        ],
        [
         "EF Lens Simulator",
         9
        ],
        [
         "500 AP World History Questions",
         9
        ],
        [
         "DRAGON QUEST III",
         9
        ],
        [
         "Pocket AC",
         9
        ],
        [
         "Chest CT Sectional Walker",
         9
        ],
        [
         "Critical Care Paramedic Review",
         9
        ],
        [
         "InfantRisk Center HCP",
         9
        ],
        [
         "Abdominal CT Sectional Walker",
         9
        ],
        [
         "Baldur's Gate II",
         9
        ],
        [
         "CHRONO TRIGGER (Upgrade Ver.)",
         9
        ],
        [
         "ACCDB MDB DB Manager Pro - Editor for MS Access",
         8
        ],
        [
         "Football Manager Mobile 2018",
         8
        ],
        [
         "USB BT Wi-Fi Color Terminal Modem",
         8
        ],
        [
         "Maps & GPS Navigation OsmAnd+",
         8
        ],
        [
         "MC.Fitting",
         8
        ],
        [
         "TurboScan: scan documents and receipts in PDF",
         8
        ],
        [
         "Greater London A-Z 2016",
         8
        ],
        [
         "Tiny Scanner Pro: PDF Doc Scan",
         8
        ],
        [
         "DG Surveyor",
         8
        ],
        [
         "My Movies Pro - Movie & TV Collection Library",
         7
        ],
        [
         "Police Field Interview FI Card",
         7
        ],
        [
         "Backgammon NJ for Android",
         7
        ],
        [
         "FINAL FANTASY V",
         7
        ],
        [
         "Children Educational Game Full",
         7
        ],
        [
         "Fast Tract Diet",
         7
        ],
        [
         "AMBW Dating App: Asian Men Black Women Interracial",
         7
        ],
        [
         "Recognise Foot",
         7
        ],
        [
         "Acupuncture Assistant",
         7
        ],
        [
         "Ad Removal: thereisonlywe",
         6
        ],
        [
         "FN model 1900 pistol explained",
         6
        ],
        [
         "New York Mysteries (Full)",
         6
        ],
        [
         "FN FAL rifle explained",
         6
        ],
        [
         "The EO Bar",
         6
        ],
        [
         "Toca Life: City",
         6
        ],
        [
         "Moco+ - Chat, Meet People",
         6
        ],
        [
         "Prime Key for Nougat Launcher& O Launcher &KitKat",
         6
        ],
        [
         "Radiological Anatomy For FRCR1",
         6
        ],
        [
         "Call of Duty:Black Ops Zombies",
         6
        ],
        [
         "Florida Tides & Weather",
         6
        ],
        [
         "Sago Mini Babies",
         6
        ],
        [
         "FN pistol model 1903 explained",
         6
        ],
        [
         "The Legacy (Full)",
         6
        ],
        [
         "Grand Theft Auto: San Andreas",
         6
        ],
        [
         "EMT Tutor NREMT-B Study Guide",
         6
        ],
        [
         "The FN HP pistol explained",
         6
        ],
        [
         "Calculator",
         6
        ],
        [
         "Camera FV-5",
         6
        ],
        [
         "AF-STROKE",
         5
        ],
        [
         "Campervan.Guide Pro",
         5
        ],
        [
         "bpresso PRO",
         5
        ],
        [
         "CZ-27 pistol explained",
         5
        ],
        [
         "BSPlayer",
         5
        ],
        [
         "aCalendar+ Calendar & Tasks",
         5
        ],
        [
         "amm dz",
         5
        ],
        [
         "CZ-38 (vz 38) pistol explained",
         5
        ],
        [
         "CZ-Cyberon Voice Commander",
         5
        ],
        [
         "Pistolet CZ-70 CZ-50 expliqué",
         5
        ],
        [
         "CZ-45 pistol explained",
         5
        ],
        [
         "Weather Live",
         5
        ],
        [
         "KeePass DX Pro",
         5
        ],
        [
         "Pistolet FN GP35 expliqué",
         5
        ],
        [
         "RollerCoaster Tycoon® Classic",
         5
        ],
        [
         "OrthoFlow",
         5
        ],
        [
         "Please Don't Touch Anything 3D",
         5
        ],
        [
         "OptoDrum",
         5
        ],
        [
         "BG Monitor Diabetes Pro",
         5
        ],
        [
         "CZ-70 (CZ-50) pistol explained",
         5
        ],
        [
         "Sleep as Android Unlock",
         5
        ],
        [
         "G-NetWiFi Pro",
         5
        ],
        [
         "Pistolet FN 1906 expliqué",
         5
        ],
        [
         "Cardio Z",
         5
        ],
        [
         "The FN \"Baby\" pistol explained",
         5
        ],
        [
         "Monitor My BP",
         5
        ],
        [
         "CZ-52 pistol explained",
         5
        ],
        [
         "FN pistol Model 1906 explained",
         5
        ],
        [
         "iHunter BC",
         4
        ],
        [
         "Al'Quran Bahasa Indonesia PRO",
         4
        ],
        [
         "NBA JAM by EA SPORTS™",
         4
        ],
        [
         "myGrow",
         4
        ],
        [
         "Battleheart Legacy",
         4
        ],
        [
         "Nighty Night Circus",
         4
        ],
        [
         "IBM Micromedex Drug Info",
         4
        ],
        [
         "AH Alarm Panel",
         4
        ],
        [
         "S Launcher Pro for Galaxy",
         4
        ],
        [
         "The Game of Life",
         4
        ],
        [
         "DraStic DS Emulator",
         4
        ],
        [
         "Chess and Mate",
         4
        ],
        [
         "Bitcoin BX Thailand PRO",
         4
        ],
        [
         "Advanced EX for RENAULT",
         4
        ],
        [
         "ERres- Emergency Medicine",
         4
        ],
        [
         "Adventure Time Game Wizard",
         4
        ],
        [
         "ai.type keyboard Plus + Emoji",
         4
        ],
        [
         "CT-REMOTE",
         4
        ],
        [
         "Officiel du SCRABBLE LAROUSSE",
         4
        ],
        [
         "The Room: Old Sins",
         4
        ],
        [
         "Business Calendar Pro",
         4
        ],
        [
         "Hey AJ! It's Bedtime!",
         4
        ],
        [
         "Advanced EX for FIAT",
         4
        ],
        [
         "Elemental Knights R Platinum",
         4
        ],
        [
         "CM Launcher 3D Pro💎",
         4
        ],
        [
         "Paprika Recipe Manager",
         4
        ],
        [
         "The House of Da Vinci",
         4
        ],
        [
         "Beautiful Widgets Pro",
         4
        ],
        [
         "I am Bread",
         4
        ],
        [
         "Advanced EX for MITSUBISHI",
         4
        ],
        [
         "R Instructor",
         4
        ],
        [
         "SharedCare™ Co-parenting",
         4
        ],
        [
         "LEGO Batman: DC Super Heroes",
         4
        ],
        [
         "F-Sim Space Shuttle",
         4
        ],
        [
         "AG Contacts, Premium edition",
         4
        ],
        [
         "Dr. Splorchy Presents Space Heroes",
         4
        ],
        [
         "Oddworld: New 'n' Tasty",
         4
        ],
        [
         "iCam - Webcam Video Streaming",
         4
        ],
        [
         "Please, Don't Touch Anything",
         4
        ],
        [
         "Morse Decoder for Ham Radio",
         4
        ],
        [
         "SLANGY-Perfect BK World Theme",
         4
        ],
        [
         "Day R Premium",
         4
        ],
        [
         "Pocket Yoga",
         4
        ],
        [
         "The Secret Daily Teachings",
         4
        ],
        [
         "TI-84 CE Graphing Calculator Manual TI 84",
         4
        ],
        [
         "DRAGON QUEST II",
         4
        ],
        [
         "BT Speed",
         4
        ],
        [
         "meStudying: AP English Lit",
         4
        ],
        [
         "OmniMedix Medical Calculator",
         4
        ],
        [
         "Absolute RC Heli Simulator",
         4
        ],
        [
         "Steam: Rails to Riches",
         4
        ],
        [
         "Advanced EX for KIA",
         4
        ],
        [
         "iScore5 AP Psych",
         4
        ],
        [
         "Dr. McDougall Mobile Cookbook",
         4
        ],
        [
         "Lollipop Launcher Plus",
         4
        ],
        [
         "Shadow Fight 2 Special Edition",
         4
        ],
        [
         "D.C. Driving/Walking Tours",
         4
        ],
        [
         "K-@ Mail Pro - Email App",
         4
        ],
        [
         "Baby Connect (activity log)",
         4
        ],
        [
         "Farming Simulator 18",
         4
        ],
        [
         "Advanced EX for HYUNDAI",
         4
        ],
        [
         "Don't Starve: Pocket Edition",
         4
        ],
        [
         "QR Code Pro",
         4
        ],
        [
         "G Cloud Apps Backup Key * root",
         4
        ],
        [
         "California Cop Assist CA Cop",
         4
        ],
        [
         "Learn Italian with MosaLingua",
         4
        ],
        [
         "BJ Bridge Pro 2018",
         4
        ],
        [
         "The Escapists",
         4
        ],
        [
         "Super Resume Builder Pro, CV",
         4
        ],
        [
         "LEGO ® Batman: Beyond Gotham",
         4
        ],
        [
         "Avokiddo Emotions",
         4
        ],
        [
         "Smart Launcher Pro 3",
         4
        ],
        [
         "Traps n' Gemstones",
         4
        ],
        [
         "Monument Valley 2",
         4
        ],
        [
         "LEGO® Friends",
         4
        ],
        [
         "PhotoFrame for Synology DS",
         4
        ],
        [
         "Advanced EX for NISSAN",
         4
        ],
        [
         "TI-Nspire CX Calculator Manual",
         4
        ],
        [
         "F-Stop Gallery Pro",
         4
        ],
        [
         "Lanterns: The Harvest Festival",
         4
        ],
        [
         "Gunship III Vietnam People AF",
         4
        ],
        [
         "My Talking Pet",
         4
        ],
        [
         "Weather Live Pro",
         4
        ],
        [
         "Lunar Calendar",
         4
        ],
        [
         "EO Guide",
         4
        ],
        [
         "Penny Puss",
         4
        ],
        [
         "THE aMAZEing Labyrinth",
         4
        ],
        [
         "Don't Starve: Shipwrecked",
         4
        ],
        [
         "Writing Wizard Premium - Handwriting",
         4
        ],
        [
         "PAC-MAN CE DX",
         4
        ],
        [
         "G-Force Driving Assistant",
         3
        ],
        [
         "iFish BC",
         3
        ],
        [
         "AC DC Power Monitor",
         3
        ],
        [
         "VeinSeek",
         3
        ],
        [
         "ExDialer PRO Key",
         3
        ],
        [
         "My Little Work – Garage",
         3
        ],
        [
         "Weather Forecast Pro",
         3
        ],
        [
         "CE Genius Nurses Edition",
         3
        ],
        [
         "Ad Blocker for SayHi",
         3
        ],
        [
         "BL 1-Click Camera",
         3
        ],
        [
         "Menstrual Calendar Premium",
         3
        ],
        [
         "Toca Builders",
         3
        ],
        [
         "Teen Titans GO Figure!",
         3
        ],
        [
         "Puffin Browser Pro",
         3
        ],
        [
         "Differential Dx",
         3
        ],
        [
         "Sago Mini Big City",
         3
        ],
        [
         "Droidbug BusyBox Advance PRO",
         3
        ],
        [
         "Kicker U",
         3
        ],
        [
         "Sago Mini Hat Maker",
         3
        ],
        [
         "Superbrothers Sword & Sworcery",
         3
        ],
        [
         "EM Launcher Pro",
         3
        ],
        [
         "Kernel Manager for Franco Kernel ✨",
         3
        ],
        [
         "Toca Life: Hospital",
         3
        ],
        [
         "Pocket RxTx Pro",
         3
        ],
        [
         "17th Edition Cable Sizer",
         3
        ],
        [
         "Myth Defense 2: DF Platinum",
         3
        ],
        [
         "EMT Study - NREMT Test Prep",
         3
        ],
        [
         "Dirt Trackin Sprint Cars",
         3
        ],
        [
         "EG | Explore Folegandros",
         3
        ],
        [
         "MommyMeds",
         3
        ],
        [
         "My CookBook Pro (Ad Free)",
         3
        ],
        [
         "Deaf - Hearing chat device H",
         3
        ],
        [
         "Manage My Pain Pro",
         3
        ],
        [
         "ONScripter Plus (Ad Free)",
         3
        ],
        [
         "BL PowerPoint Remote",
         3
        ],
        [
         "Breathing Zone",
         3
        ],
        [
         "With Helper Pro Pill Reminder",
         3
        ],
        [
         "CSCS BG (в български)",
         3
        ],
        [
         "BW-Go",
         3
        ],
        [
         "Jetting for Honda CR dirt bike",
         3
        ],
        [
         "Toca Mystery House",
         3
        ],
        [
         "Deep Sleep Battery Saver Pro",
         3
        ],
        [
         "Anna.K Tarot",
         3
        ],
        [
         "Teeny Titans - Teen Titans Go!",
         3
        ],
        [
         "Automagic * Automation",
         3
        ],
        [
         "Hey AJ! It's Saturday!",
         3
        ],
        [
         "BZ Reminder PRO",
         3
        ],
        [
         "BL IP-Camera",
         3
        ],
        [
         "Reading Race 1b: sh, ch words",
         3
        ],
        [
         "Battery HD Pro",
         3
        ],
        [
         "ASRA Coags",
         3
        ],
        [
         "LC-DB",
         3
        ],
        [
         "Dr. Seuss's ABC",
         3
        ],
        [
         "Tools & Mi Band",
         3
        ],
        [
         "Meditation Studio",
         3
        ],
        [
         "Age of Conquest: N. America",
         3
        ],
        [
         "Ultimate Public Campgrounds (Over 37,100 in US&CA)",
         3
        ],
        [
         "EU RCD Guide",
         3
        ],
        [
         "Mike V: Skateboard Party PRO",
         3
        ],
        [
         "Ba Financial Calculator plus",
         3
        ],
        [
         "Decibel X PRO - Sound Meter dBA, Noise Detector",
         3
        ],
        [
         "Financial Calculator BA Chien.",
         3
        ],
        [
         "BatControl Pro",
         3
        ],
        [
         "Migraine, Headache Diary HeadApp Pro",
         3
        ],
        [
         "End Anxiety Pro - Stress, Panic Attack Help",
         3
        ],
        [
         "O'Route Orienteering",
         3
        ],
        [
         "Whoowasit? - Best kids game!",
         2
        ],
        [
         "Sokoban Land DX",
         2
        ],
        [
         "Flipped Out! - Powerpuff Girls",
         2
        ],
        [
         "Dr. Panda Restaurant 2",
         2
        ],
        [
         "CN Superstar Soccer: Goal!!!",
         2
        ],
        [
         "My Budget Book",
         2
        ],
        [
         "DR.MEEP",
         2
        ],
        [
         "Smart Wi-Fi Hotspot PRO",
         2
        ],
        [
         "Guns'n'Glory Premium",
         2
        ],
        [
         "Guns'n'Glory WW2 Premium",
         2
        ],
        [
         "Ain Arabic Kids Alif Ba ta",
         2
        ],
        [
         "Técnico Legislativo Câmara Legislativa DF",
         2
        ],
        [
         "Dr. Panda Hospital",
         2
        ],
        [
         "Skip-Bo™",
         2
        ],
        [
         "MyRadar NOAA Weather Radar Ad Free",
         2
        ],
        [
         "Alarmy (Sleep If U Can) - Pro",
         2
        ],
        [
         "Muscle Trigger Point Anatomy",
         2
        ],
        [
         "Ai-Ball AV Recorder",
         2
        ],
        [
         "cronometer (ad free)",
         2
        ],
        [
         "Gravidez ao Vivo",
         2
        ],
        [
         "Age of AI: War Strategy",
         2
        ],
        [
         "Active Soccer 2 DX",
         2
        ],
        [
         "Private Dating, Hide App- Blue for PrivacyHider",
         2
        ],
        [
         "Five Nights at Freddy's",
         2
        ],
        [
         "Threema",
         2
        ],
        [
         "Cameringo+ Filters Camera",
         2
        ],
        [
         "The Hunt for the Lost Treasure",
         2
        ],
        [
         "Five Nights at Freddy's 4",
         2
        ],
        [
         "DC Metro Transit",
         2
        ],
        [
         "Calcium Pro",
         2
        ],
        [
         "Peppa Pig: Party Time",
         2
        ],
        [
         "Masha and the Bear - Hair Salon and MakeUp Games",
         2
        ],
        [
         "Tasker",
         2
        ],
        [
         "Tsuro - The Game of the Path",
         2
        ],
        [
         "WiFi Tether Router",
         2
        ],
        [
         "FHR 5-Tier 2.0",
         2
        ],
        [
         "Visual Anatomy 2",
         2
        ],
        [
         "m>notes notepad",
         2
        ],
        [
         "Bo's School Day",
         2
        ],
        [
         "Medical terms (OFFLINE)",
         2
        ],
        [
         "Asiimov Skin - CS GO Icon Pack",
         2
        ],
        [
         "Guns'n'Glory Heroes Premium",
         2
        ],
        [
         "Shopping List S PRO",
         2
        ],
        [
         "Retro City Rampage DX",
         2
        ],
        [
         "Morse Trainer for Ham Radio",
         2
        ],
        [
         "Super Hearing Secret Voices Recorder PRO",
         2
        ],
        [
         "AC CE BJT Actorial",
         2
        ],
        [
         "Squeezy CF",
         2
        ],
        [
         "Führerschein Klasse CE, LKW 2018",
         2
        ],
        [
         "Paris ci la Sortie du Métro",
         2
        ],
        [
         "Pocket Lab Values",
         2
        ],
        [
         "Five Nights at Freddy's 2",
         2
        ],
        [
         "Organizer",
         2
        ],
        [
         "Talkie Pro - Wi-Fi Calling, Chats, File Sharing",
         2
        ],
        [
         "Battery Notifier Pro BT",
         2
        ],
        [
         "AQ Math Facts",
         2
        ],
        [
         "Learn CW",
         2
        ],
        [
         "I am Millionaire - Richest guy in the town",
         2
        ],
        [
         "Attack the Light",
         2
        ],
        [
         "Visualmed",
         2
        ],
        [
         "I Can't Wake Up!",
         2
        ],
        [
         "The DG Buddy",
         2
        ],
        [
         "ap,wifi testing,iperf,ping,android,Bluetooth,tcp",
         2
        ],
        [
         "Hactar Go",
         2
        ],
        [
         "Navigator PRO - GPS Navigation with Offline Maps",
         2
        ],
        [
         "DRAGON QUEST",
         2
        ],
        [
         "Z Origins - (Z The Game)",
         2
        ],
        [
         "CW Ringtone (Morse Code generator)",
         2
        ],
        [
         "Out There Chronicles - Ep. 2",
         2
        ],
        [
         "EG Classroom Decimals™",
         2
        ],
        [
         "Farming Simulator 16",
         2
        ],
        [
         "Real Sheet ∞: Pathfinder + DT",
         2
        ],
        [
         "Ramfer - CNC Lathe G-code Tool",
         2
        ],
        [
         "BusyBox Pro",
         2
        ],
        [
         "Cossack Dictionary (DN)",
         2
        ],
        [
         "Board Game Stats: Play tracking for tabletop games",
         2
        ],
        [
         "Guns'n'Glory Zombies Premium",
         2
        ],
        [
         "Jump'N'Shoot Attack",
         2
        ],
        [
         "AV Tools Pro",
         2
        ],
        [
         "Riptide GP: Renegade",
         2
        ],
        [
         "ES File Explorer/Manager PRO",
         2
        ],
        [
         "AI Draw | Art Filter for Selfie",
         2
        ],
        [
         "Message AI - Write Better Messages",
         2
        ],
        [
         "Fodbold DK Pro",
         2
        ],
        [
         "Bo's Bedtime Story",
         2
        ],
        [
         "Wuwu & Co.",
         2
        ],
        [
         "Advanced Download Manager Pro",
         2
        ],
        [
         "Bubble Shooter DX AdFree",
         2
        ],
        [
         "Pinkalicious Party",
         2
        ],
        [
         "Don't Panic with Andrew J.",
         2
        ],
        [
         "Out There Chronicles - Ep. 1",
         2
        ],
        [
         "Theatre of the Absurd CE(Full)",
         2
        ],
        [
         "Day Night Live Wallpaper (All)",
         2
        ],
        [
         "Dr. Panda Farm",
         2
        ],
        [
         "Speech Therapy: F",
         2
        ],
        [
         "Lapse It • Time Lapse • Pro",
         2
        ],
        [
         "PROFESSOR SEE-BA LINGUAGENS E SUAS TECNOLOGIAS",
         2
        ],
        [
         "ZArchiver Donate",
         2
        ],
        [
         "YouCamp EU",
         2
        ],
        [
         "iLauncher OS 12 Pro - Phone X",
         2
        ],
        [
         "Formula Cartoon All Stars",
         2
        ],
        [
         "Bloons TD 5",
         2
        ],
        [
         "Meme Generator",
         2
        ],
        [
         "C Locker Pro",
         2
        ],
        [
         "Best Park in the Universe",
         2
        ],
        [
         "Tetrobot and Co.",
         2
        ],
        [
         "Detect-O-Gromit (D.O.G 2)",
         2
        ],
        [
         "My Little Princess : Stores",
         2
        ],
        [
         "Weather & Radar Pro - Ad-Free",
         2
        ],
        [
         "RAM Cleanup Ad-Free Option",
         2
        ],
        [
         "CM FILE MANAGER Pro",
         2
        ],
        [
         "Card Wars - Adventure Time",
         2
        ],
        [
         "Lab Values + Medical Reference",
         2
        ],
        [
         "King of Math",
         2
        ],
        [
         "Solitaire+",
         2
        ],
        [
         "C4droid - C/C++ compiler & IDE",
         2
        ],
        [
         "F-1 watchface by Delta",
         2
        ],
        [
         "Hunt Buddy BC",
         2
        ],
        [
         "Sonic 4™ Episode I",
         2
        ],
        [
         "Bixby Button Remapper - bxActions Pro / Coffee",
         2
        ],
        [
         "Depths of Betrayal CE (Full)",
         2
        ],
        [
         "BL Holo Theme",
         2
        ],
        [
         "Bo's Dinnertime Story",
         2
        ],
        [
         "Cargo de Praça PM DF",
         2
        ],
        [
         "Relax Melodies P: Sleep Sounds",
         2
        ],
        [
         "Five Nights at Freddy's: SL",
         2
        ],
        [
         "Silence Premium Do Not Disturb",
         2
        ],
        [
         "N Launcher Pro - Nougat 7.0",
         2
        ],
        [
         "Scale Models DB",
         2
        ],
        [
         "Pain Tracker & Diary",
         2
        ],
        [
         "Phonics Puzzles",
         2
        ],
        [
         "Weather Data CH",
         2
        ],
        [
         "Alizay, pirate girl",
         2
        ],
        [
         "Égalité et Réconciliation",
         2
        ],
        [
         "LocaToWeb - Live GPS tracking",
         2
        ],
        [
         "Ability DS UNO",
         2
        ],
        [
         "Five Nights at Freddy's 3",
         2
        ],
        [
         "ADWLauncher 1 EX",
         2
        ],
        [
         "F Length Sim (no Ads)",
         2
        ],
        [
         "AP Government Review",
         2
        ],
        [
         "Basket Manager 2018 Pro",
         2
        ],
        [
         "FlashLight HD LED Pro",
         2
        ],
        [
         "Penny Finder",
         2
        ],
        [
         "WiFi Monitor Pro - analyzer of Wi-Fi networks",
         2
        ],
        [
         "Dr. Panda Supermarket",
         2
        ],
        [
         "Mind Games Pro",
         2
        ],
        [
         "Vpn Hosts (ad blocker & no root & support ipv6 )",
         2
        ],
        [
         "Beck & Bo: Toddler First Words",
         2
        ],
        [
         "Dr. Panda Art Class",
         2
        ],
        [
         "Koch Morse Trainer Pro",
         2
        ],
        [
         "Dark Infusion Substratum Theme for Android N & O",
         2
        ],
        [
         "Ray Financial Calculator Pro",
         2
        ],
        [
         "Servidor Privado CR y CoC - Royale Servers PRO",
         1
        ],
        [
         "FJ Toolkit",
         1
        ],
        [
         "Dr. Panda's Swimming Pool",
         1
        ],
        [
         "MultiPicture Live Wallpaper dn",
         1
        ],
        [
         "WIZARD Card Game",
         1
        ],
        [
         "Arrhythmias and Dysrhythmias",
         1
        ],
        [
         "Next Launcher 3D Theme Hit-G",
         1
        ],
        [
         "AP Series Solution Pro",
         1
        ],
        [
         "Math games for kids : times tables training",
         1
        ],
        [
         "Es-Bg Offline Voice Translator",
         1
        ],
        [
         "BeFunky Photo Editor Pro",
         1
        ],
        [
         "MEGA MAN MOBILE",
         1
        ],
        [
         "W Pro - Weather Forecast & Animated Weather Maps",
         1
        ],
        [
         "Power Widget",
         1
        ],
        [
         "Wi-Fi Rabbit Unlock Key",
         1
        ],
        [
         "CW Beacon for Ham Radio",
         1
        ],
        [
         "J Alvarej Moji",
         1
        ],
        [
         "Android P | Xperia™ Theme 4800+ icons",
         1
        ],
        [
         "Ulysse Speedometer Pro",
         1
        ],
        [
         "Android P Home KLWP",
         1
        ],
        [
         "Pacify Exceed (Android P) - Theme for Xperia™",
         1
        ],
        [
         "Pujie Black Watch Face for Android Wear OS",
         1
        ],
        [
         "X Home Bar - Home Bar Gesture Pro",
         1
        ],
        [
         "Volume Control Ex",
         1
        ],
        [
         "H*nest Meditation",
         1
        ],
        [
         "AJ Jump: Animal Jam Kangaroos!",
         1
        ],
        [
         "Sic Bo",
         1
        ],
        [
         "Theme Android P Black for LG G7 & V35",
         1
        ],
        [
         "True Skate",
         1
        ],
        [
         "R-TYPE",
         1
        ],
        [
         "Dialer theme G Black Gold",
         1
        ],
        [
         "FVD Ad-Free",
         1
        ],
        [
         "EX File Explorer File Manage Pro",
         1
        ],
        [
         "Alif Ba Ta Bullseye",
         1
        ],
        [
         "Car Driving Theory Test BC",
         1
        ],
        [
         "CamScanner (License)",
         1
        ],
        [
         "Dungeons and Dragons DM Tools",
         1
        ],
        [
         "20WPM Amateur ham radio Koch CW Morse code trainer",
         1
        ],
        [
         "Basketball Dynasty Manager 16",
         1
        ],
        [
         "SCI-FI UI",
         1
        ],
        [
         "25WPM Amateur ham radio Koch CW Morse code trainer",
         1
        ],
        [
         "Paramedic Meds",
         1
        ],
        [
         "Билеты ПДД CD 2019 PRO",
         1
        ],
        [
         "Speech Therapy: CH",
         1
        ],
        [
         "Analog Clock AW-7 PRO",
         1
        ],
        [
         "BlackCam Pro - B&W Camera",
         1
        ],
        [
         "PORTABLE SOCCER DX",
         1
        ],
        [
         "Where's My Water?",
         1
        ],
        [
         "Inventory & Barcode scanner & WIFI scanner",
         1
        ],
        [
         "FL SW Fishing Regulations",
         1
        ],
        [
         "BA Pro Financial Calculator",
         1
        ],
        [
         "G Theme 2 for LG V30, LG G6",
         1
        ],
        [
         "Stand O’Food® (Full)",
         1
        ],
        [
         "30WPM Amateur ham radio Koch CW Morse code trainer",
         1
        ],
        [
         "Ghouls'n Ghosts MOBILE",
         1
        ],
        [
         "Be Stronger",
         1
        ],
        [
         "Cytus II",
         1
        ],
        [
         "XE Currency Pro",
         1
        ],
        [
         "FL Racing Manager 2018 Pro",
         1
        ],
        [
         "weather HD",
         1
        ],
        [
         "Clue",
         1
        ],
        [
         "BL File Explorer",
         1
        ],
        [
         "Truth or Dare Pro",
         1
        ],
        [
         "Morse Player",
         1
        ],
        [
         "EC music dictionary",
         1
        ],
        [
         "Ra Ga Ba",
         1
        ],
        [
         "2 Amateur ham radio CW Morse code practice keys TX",
         1
        ],
        [
         "Remote EX for NISSAN",
         1
        ],
        [
         "Pureness Pacify (Android P) - Theme for Xperia™",
         1
        ],
        [
         "Lullaby Add-on for Sleep as Android",
         1
        ],
        [
         "Analog and Digital Clock AW-7PRO",
         1
        ],
        [
         "10 WPM Amateur ham radio CW Morse code trainer",
         1
        ],
        [
         "Santa's Monster Shootout DX",
         1
        ],
        [
         "Monastery of El Escorial",
         1
        ],
        [
         "ADS-B Driver",
         1
        ],
        [
         "Theme Android P Design for LG V30",
         1
        ],
        [
         "CF-Bench Pro",
         1
        ],
        [
         "Ad Remove Plugin for App2SD",
         1
        ],
        [
         "RETRO Shocked DW-6000",
         1
        ],
        [
         "PitchBlack S - Samsung Substratum Theme “For Oreo”",
         1
        ],
        [
         "BC MVA Fines",
         1
        ],
        [
         "K.MOJI",
         1
        ],
        [
         "Trazado de tuberia El Tubero",
         1
        ],
        [
         "X Construction",
         1
        ],
        [
         "G-Playlists",
         1
        ],
        [
         "Space Z 🌏 🚀Icon Pack Theme",
         1
        ],
        [
         "LightMeter (noAds)",
         1
        ],
        [
         "Arto: f.infrared photo",
         1
        ],
        [
         "Pixel Oreo/P Dark White AMOLED UI - Icon Pack",
         1
        ],
        [
         "Dive-Store.ch",
         1
        ],
        [
         "Theme Android P Black design for LG V30",
         1
        ],
        [
         "db Meter - sound level meter with data logging",
         1
        ],
        [
         "Assassin's Creed Identity",
         1
        ],
        [
         "Next Launcher 3D Theme Hit-B",
         1
        ],
        [
         "Ludo - Don't get angry",
         1
        ],
        [
         "Daily Ab Workout",
         1
        ],
        [
         "Theme Android P for LG G7 & V35",
         1
        ],
        [
         "Pistachio Launcher for Android P 9.0",
         1
        ],
        [
         "X Launcher Pro - IOS Style Theme & Control Center",
         1
        ],
        [
         "B-17 Flying Fortress WWII LWP",
         1
        ],
        [
         "B-Grade Renegade",
         1
        ],
        [
         "R-TYPE II",
         1
        ],
        [
         "The Artificial Intelligence Project (A.I. Chat)",
         1
        ],
        [
         "IF YOU TO EU PEGO",
         1
        ],
        [
         "X Launcher Prime: With OS Style Theme & No Ads",
         1
        ],
        [
         "BS Detector - Diss 'n' Gauges",
         1
        ],
        [
         "Unstoppaball DX",
         1
        ],
        [
         "Learn Music Notes",
         1
        ],
        [
         "¡Ay Caramba!",
         1
        ],
        [
         "Masha and the Bear- House Cleaning Games for Girls",
         1
        ],
        [
         "Q Avatar Pro",
         1
        ],
        [
         "tTorrent - ad free",
         1
        ],
        [
         "ch-mm Dict",
         1
        ],
        [
         "X Launcher Pro: PhoneX Theme, OS11 Control Center",
         1
        ],
        [
         "Learn Quran with Elif Ba",
         1
        ],
        [
         "Smart Launcher theme b. gold",
         1
        ],
        [
         "Anti Mosquito simulation",
         1
        ],
        [
         "Whist - Tinnitus Relief",
         1
        ],
        [
         "Swift Dark CM / CM13 Theme",
         1
        ],
        [
         "AP Themes for Kustom/KLWP",
         1
        ],
        [
         "Flud (Ad free)",
         1
        ],
        [
         "Train Sim Pro",
         1
        ],
        [
         "FiSwitch",
         1
        ],
        [
         "sugar, sugar",
         1
        ],
        [
         "Truck Driving Test Class 3 BC",
         1
        ],
        [
         "EP McGuffey Primer",
         1
        ],
        [
         "Galaxian(FC)",
         1
        ],
        [
         "Q-slope",
         1
        ],
        [
         "TV Guide BR Gold",
         1
        ],
        [
         "Word Search Tab 1 FR",
         1
        ],
        [
         "The Great Wobo Escape Ep.1",
         1
        ],
        [
         "Rockstars of Ooo",
         1
        ],
        [
         "Math Games for Pre-K - Grade 4",
         1
        ],
        [
         "Popsicle Launcher for Android P 9.0 launcher",
         1
        ],
        [
         "[substratum] Vacuum: P",
         1
        ],
        [
         "SweetLand — Family Board Game",
         0
        ],
        [
         "Be the Expert in Phlebotomy - Professional Nursing",
         0
        ],
        [
         "pretty Easy privacy p≡p",
         0
        ],
        [
         "DK Primrose for KLWP",
         0
        ],
        [
         "AJ Gray Dark Icon Pack",
         0
        ],
        [
         "F05WatchFace for Android Wear",
         0
        ],
        [
         "Morse Machine for Ham Radio",
         0
        ],
        [
         "ZOOKEEPER DX TouchEdition",
         0
        ],
        [
         "Socle Commun BO du 23-04-2015",
         0
        ],
        [
         "Hitman Sniper",
         0
        ],
        [
         "Light X - Icon Pack",
         0
        ],
        [
         "Poker Equity Calculator Pro for No Limit Hold'em",
         0
        ],
        [
         "League of Stickman 2018- Ninja Arena PVP(Dreamsky)",
         0
        ],
        [
         "An Elite Warrior Ex",
         0
        ],
        [
         "Fruit Ninja Classic",
         0
        ],
        [
         "DW Contacts widget",
         0
        ],
        [
         "Glanceable Ap Watch Face",
         0
        ],
        [
         "Nightenfell: Shared AR",
         0
        ],
        [
         "Michael's AG Sound Board",
         0
        ],
        [
         "AJ Orange Icon Pack",
         0
        ],
        [
         "My Virtual Boyfriend",
         0
        ],
        [
         "All-night drugstore CI & Price",
         0
        ],
        [
         "B-52 Spirits of Glory Deluxe",
         0
        ],
        [
         "Neon Glow C - Icon Pack",
         0
        ],
        [
         "Volume Slider Like Android P Volume Control",
         0
        ],
        [
         "Reksio cz. 1",
         0
        ],
        [
         "Infinity Dungeon VIP",
         0
        ],
        [
         "F*ck This Game",
         0
        ],
        [
         "Planet O - Icon Pack",
         0
        ],
        [
         "Easy Hotspot Ad Free",
         0
        ],
        [
         "Hitman GO",
         0
        ],
        [
         "Ice Crush 10.000 B.C.",
         0
        ],
        [
         "Portable Wi-Fi hotspot Premium",
         0
        ],
        [
         "DL Image Manager",
         0
        ],
        [
         "O Céu e o Inferno",
         0
        ],
        [
         "AJ Turquoise Dark Icon Pack",
         0
        ],
        [
         "Emergency Brain CT",
         0
        ],
        [
         "Jurassic Life: T Rex Simulator",
         0
        ],
        [
         "AJ Blue Icon Pack",
         0
        ],
        [
         "AJ Gray Icon Pack",
         0
        ],
        [
         "Mu.F.O.",
         0
        ],
        [
         "World Racers family board game",
         0
        ],
        [
         "El Chavo",
         0
        ],
        [
         "CT and XR Dose Calculator",
         0
        ],
        [
         "DCUO|CR Calculator Pro",
         0
        ],
        [
         "Antenna Tool Premium",
         0
        ],
        [
         "EP Calipers",
         0
        ],
        [
         "Dots puzzle",
         0
        ],
        [
         "Ski Safari: Adventure Time",
         0
        ],
        [
         "Cut the Rope GOLD",
         0
        ],
        [
         "P-Home for KLWP",
         0
        ],
        [
         "X-Plane to GPS",
         0
        ],
        [
         "Bi-Tank Ads Free",
         0
        ],
        [
         "A41 WatchFace for Android Wear Smart Watch",
         0
        ],
        [
         "Mupen64Plus AE (N64 Emulator)",
         0
        ],
        [
         "Next Launcher 3D Bold-CF Theme",
         0
        ],
        [
         "Pacify (Android P theme) - Theme for Xperia™",
         0
        ],
        [
         "Blood Pressure Companion",
         0
        ],
        [
         "INTERACTIVE CALCULUS PRO",
         0
        ],
        [
         "Circle Colors Pack-FN Theme",
         0
        ],
        [
         "Bo's Matching Game",
         0
        ],
        [
         "Q Alerts: QAnon Drop Notifications, Research +++",
         0
        ],
        [
         "FL Racing Manager 2015 Pro",
         0
        ],
        [
         "ReDNAKET DB Normalization Tool",
         0
        ],
        [
         "YAKALA AY",
         0
        ],
        [
         "Basket Manager 2016 Pro",
         0
        ],
        [
         "Little Magnet BT Pro",
         0
        ],
        [
         "ABG Master",
         0
        ],
        [
         "Ghosts'n Goblins MOBILE",
         0
        ],
        [
         "[Sub/EMUI] P Pro - EMUI 8.1/8.0/5.X Theme",
         0
        ],
        [
         "palmPEDi: Pediatric Tape",
         0
        ],
        [
         "CI 174 Gray Icon Pack",
         0
        ],
        [
         "Stickman Legends: Shadow Wars",
         0
        ],
        [
         "Dress Up RagazzA13 DX",
         0
        ],
        [
         "Lost Journey (Dreamsky)",
         0
        ],
        [
         "211:CK",
         0
        ],
        [
         "Android P Style Icon Pack",
         0
        ],
        [
         "X Back - Icon Pack",
         0
        ],
        [
         "Schlaumeier",
         0
        ],
        [
         "DM Die Roller 9000",
         0
        ],
        [
         "Kairo XP (for HD Widgets)",
         0
        ],
        [
         "BS Match Maker Premium",
         0
        ],
        [
         "FP VoiceBot",
         0
        ],
        [
         "HD Widgets",
         0
        ],
        [
         "P Icon Pack",
         0
        ],
        [
         "Obbligo o Verità? PRO",
         0
        ],
        [
         "W-History Standalone",
         0
        ],
        [
         "EU Flags Live Wallpaper",
         0
        ],
        [
         "All-in-One Mahjong 3",
         0
        ],
        [
         "Mental Hospital V",
         0
        ],
        [
         "CE Map - Interactive Conan Exiles Map",
         0
        ],
        [
         "FAV KWGT",
         0
        ],
        [
         "DX Glow - Clock Widget",
         0
        ],
        [
         "iBP Blood Pressure",
         0
        ],
        [
         "Watch Face Swiss AJ-6",
         0
        ],
        [
         "Interactive NPC DM Tool",
         0
        ],
        [
         "Ultimate Watch 2 watch face",
         0
        ],
        [
         "FO Bixby",
         0
        ],
        [
         "Trinomial Factoring Wizard",
         0
        ],
        [
         "OMEGA Black UI Theme - CM 12+",
         0
        ],
        [
         "Bk Bee Sales Manager",
         0
        ],
        [
         "Pixxy KWGT",
         0
        ],
        [
         "Nursing Care Plan NANDA Tables",
         0
        ],
        [
         "Watch Face BW Inter",
         0
        ],
        [
         "Go",
         0
        ],
        [
         "iCluster - The DX-Cluster database",
         0
        ],
        [
         "UFO-CQ",
         0
        ],
        [
         "Device Info Ex Live Wallpaper",
         0
        ],
        [
         "BringGo AU & NZ",
         0
        ],
        [
         "Koi Live Wallpaper",
         0
        ],
        [
         "AX Watch for WatchMaker",
         0
        ],
        [
         "Color Changer Pro [root]",
         0
        ],
        [
         "CI Attendance",
         0
        ],
        [
         "Lock 'n' Roll Pro - Ad Free",
         0
        ],
        [
         "Wolf of the BF:Commando MOBILE",
         0
        ],
        [
         "CW Studio ®",
         0
        ],
        [
         "AG Subway Simulator Mobile",
         0
        ],
        [
         "CV-RECORD Pro",
         0
        ],
        [
         "FREE CHATS C.L.",
         0
        ],
        [
         "GO Contacts EX Black & Grey",
         0
        ],
        [
         "D+H Reaction Wall",
         0
        ],
        [
         "CB Frequencies",
         0
        ],
        [
         "CS go bomb simulator",
         0
        ],
        [
         "Deus Ex GO",
         0
        ],
        [
         "Frequencies",
         0
        ],
        [
         "DZ Puzzle",
         0
        ],
        [
         "My baby firework (Remove ad)",
         0
        ],
        [
         "BI Barcode Scanner",
         0
        ],
        [
         "10,000 Quotes DB (Premium)",
         0
        ],
        [
         "E.G. Chess",
         0
        ],
        [
         "Basket Manager 2017 Pro",
         0
        ],
        [
         "European War 6: 1804",
         0
        ],
        [
         "WhatsFake Pro (Ad free)",
         0
        ],
        [
         "Diseño de columnas NTC - RSEE 2017",
         0
        ],
        [
         "CA Speakers",
         0
        ],
        [
         "Online TV CZ/SK PRO",
         0
        ],
        [
         "Sam.BN Pro",
         0
        ],
        [
         "Neon-R (Red)",
         0
        ],
        [
         "Droid PRoCon BF3",
         0
        ],
        [
         "Zombie Avengers:(Dreamsky)Stickman War Z",
         0
        ],
        [
         "EP Coding",
         0
        ],
        [
         "Ay Yıldız - Xperia Live Theme",
         0
        ],
        [
         "Chinese Chess 3D Online (Xiangqi, 象棋, co tuong)",
         0
        ],
        [
         "Chronolink DX",
         0
        ],
        [
         "CURSUM B",
         0
        ]
       ],
       "datasetInfos": [],
       "dbfsResultPath": null,
       "isJsonSchema": true,
       "metadata": {},
       "overflow": false,
       "plotOptions": {
        "customPlotOptions": {},
        "displayType": "table",
        "pivotAggregation": null,
        "pivotColumns": null,
        "xColumns": null,
        "yColumns": null
       },
       "removedWidgets": [],
       "schema": [
        {
         "metadata": "{}",
         "name": "App",
         "type": "\"string\""
        },
        {
         "metadata": "{\"__autoGeneratedAlias\":\"true\"}",
         "name": "sum(Price)",
         "type": "\"long\""
        }
       ],
       "type": "table"
      }
     },
     "output_type": "display_data"
    }
   ],
   "source": [
    "%sql select App, sum(Price) from apps where Type='Paid'\n",
    "group by 1 order by 2 desc"
   ]
  }
 ],
 "metadata": {
  "application/vnd.databricks.v1+notebook": {
   "dashboards": [],
   "language": "python",
   "notebookMetadata": {
    "mostRecentlyExecutedCommandWithImplicitDF": {
     "commandId": 3708425590295873,
     "dataframes": [
      "_sqldf"
     ]
    },
    "pythonIndentUnit": 4
   },
   "notebookName": "PySpark_Project 2023-10-09 20:03:55",
   "widgets": {}
  }
 },
 "nbformat": 4,
 "nbformat_minor": 0
}
